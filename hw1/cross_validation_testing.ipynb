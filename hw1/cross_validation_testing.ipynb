{
 "cells": [
  {
   "cell_type": "code",
   "execution_count": 35,
   "id": "a0d5f15d-300d-4eb5-83cb-f1ab4a8623b3",
   "metadata": {},
   "outputs": [],
   "source": [
    "import numpy as np\n",
    "\n",
    "from performance_metrics import calc_root_mean_squared_error\n",
    "\n",
    "def make_train_and_test_row_ids_for_n_fold_cv(\n",
    "        n_examples=0, n_folds=3, random_state=0, test_size=0.2):\n",
    "    ''' Divide row ids into train and test sets for n-fold cross validation.\n",
    "\n",
    "    Will *shuffle* the row ids via a pseudorandom number generator before\n",
    "    dividing into folds.\n",
    "\n",
    "    Args\n",
    "    ----\n",
    "    n_examples : int\n",
    "        Total number of examples to allocate into train/test sets\n",
    "    n_folds : int\n",
    "        Number of folds requested\n",
    "    random_state : int or numpy RandomState object\n",
    "        Pseudorandom number generator (or seed) for reproducibility\n",
    "\n",
    "    Returns\n",
    "    -------\n",
    "    train_ids_per_fold : list of 1D np.arrays\n",
    "        One entry per fold\n",
    "        Each entry is a 1-dim numpy array of unique integers between 0 to N\n",
    "    test_ids_per_fold : list of 1D np.arrays\n",
    "        One entry per fold\n",
    "        Each entry is a 1-dim numpy array of unique integers between 0 to N\n",
    "\n",
    "    Guarantees for Return Values\n",
    "    ----------------------------\n",
    "    Across all folds, guarantee that no two folds put same object in test set.\n",
    "    For each fold f, we need to guarantee:\n",
    "    * The *union* of train_ids_per_fold[f] and test_ids_per_fold[f]\n",
    "    is equal to [0, 1, ... N-1]\n",
    "    * The *intersection* of the two is the empty set\n",
    "    * The total size of train and test ids for any fold is equal to N\n",
    "\n",
    "    Examples\n",
    "    --------\n",
    "    >>> N = 11\n",
    "    >>> n_folds = 3\n",
    "    >>> tr_ids_per_fold, te_ids_per_fold = (\n",
    "    ...     make_train_and_test_row_ids_for_n_fold_cv(N, n_folds))\n",
    "    >>> len(tr_ids_per_fold)\n",
    "    3\n",
    "\n",
    "    # Count of items in training sets\n",
    "    >>> np.sort([len(tr) for tr in tr_ids_per_fold])\n",
    "    array([7, 7, 8])\n",
    "\n",
    "    # Count of items in the test sets\n",
    "    >>> np.sort([len(te) for te in te_ids_per_fold])\n",
    "    array([3, 4, 4])\n",
    "\n",
    "    # Test ids should uniquely cover the interval [0, N)\n",
    "    >>> np.sort(np.hstack([te_ids_per_fold[f] for f in range(n_folds)]))\n",
    "    array([ 0,  1,  2,  3,  4,  5,  6,  7,  8,  9, 10])\n",
    "\n",
    "    # Train ids should cover the interval [0, N) TWICE\n",
    "    >>> np.sort(np.hstack([tr_ids_per_fold[f] for f in range(n_folds)]))\n",
    "    array([ 0,  0,  1,  1,  2,  2,  3,  3,  4,  4,  5,  5,  6,  6,  7,  7,  8,\n",
    "            8,  9,  9, 10, 10])\n",
    "    '''\n",
    "    if hasattr(random_state, 'rand'):\n",
    "        # Handle case where provided random_state is a random generator\n",
    "        # (e.g. has methods rand() and randn())\n",
    "        random_state = random_state # just remind us we use the passed-in value\n",
    "    else:\n",
    "        # Handle case where we pass \"seed\" for a PRNG as an integer\n",
    "        random_state = np.random.RandomState(int(random_state))\n",
    "\n",
    "    # TODO obtain a shuffled order of the n_examples\n",
    "    indeces = np.arange(0, n_examples, 1)\n",
    "    random_state.shuffle(indeces)    \n",
    "    \n",
    "    # TODO establish the row ids that belong to each fold's\n",
    "    # train subset and test subset\n",
    "    \n",
    "    test_ids_per_fold = np.array_split(indeces, n_folds)\n",
    "    train_ids_per_fold = [\n",
    "        np.concatenate(list(filter(\n",
    "            lambda current_train_fold: not np.array_equal(current_train_fold, current_test_fold), test_ids_per_fold\n",
    "        ))) for current_test_fold in test_ids_per_fold\n",
    "    ]\n",
    "    \n",
    "\n",
    "    return train_ids_per_fold, test_ids_per_fold"
   ]
  },
  {
   "cell_type": "code",
   "execution_count": 36,
   "id": "9e921ead-c404-49a0-ac21-4a391fd22471",
   "metadata": {},
   "outputs": [],
   "source": [
    "def train_models_and_calc_scores_for_n_fold_cv(\n",
    "        estimator, x_NF, y_N, n_folds=3, random_state=0):\n",
    "    ''' Perform n-fold cross validation for a specific sklearn estimator object\n",
    "\n",
    "    Args\n",
    "    ----\n",
    "    estimator : any regressor object with sklearn-like API\n",
    "        Supports 'fit' and 'predict' methods.\n",
    "    x_NF : 2D numpy array, shape (n_examples, n_features) = (N, F)\n",
    "        Input measurements (\"features\") for all examples of interest.\n",
    "        Each row is a feature vector for one example.\n",
    "    y_N : 1D numpy array, shape (n_examples,)\n",
    "        Output measurements (\"responses\") for all examples of interest.\n",
    "        Each row is a scalar response for one example.\n",
    "    n_folds : int\n",
    "        Number of folds to divide provided dataset into.\n",
    "    random_state : int or numpy.RandomState instance\n",
    "        Allows reproducible random splits.\n",
    "\n",
    "    Returns\n",
    "    -------\n",
    "    train_error_per_fold : 1D numpy array, size n_folds\n",
    "        One entry per fold\n",
    "        Entry f gives the error computed for train set for fold f\n",
    "    test_error_per_fold : 1D numpy array, size n_folds\n",
    "        One entry per fold\n",
    "        Entry f gives the error computed for test set for fold f\n",
    "\n",
    "    Examples\n",
    "    --------\n",
    "    # Create simple dataset of N examples where y given x\n",
    "    # is perfectly explained by a linear regression model\n",
    "    >>> N = 101\n",
    "    >>> n_folds = 7\n",
    "    >>> x_N3 = np.random.RandomState(0).rand(N, 3)\n",
    "    >>> y_N = np.dot(x_N3, np.asarray([1., -2.0, 3.0])) - 1.3337\n",
    "    >>> y_N.shape\n",
    "    (101,)\n",
    "\n",
    "    >>> import sklearn.linear_model\n",
    "    >>> my_regr = sklearn.linear_model.LinearRegression()\n",
    "    >>> tr_K, te_K = train_models_and_calc_scores_for_n_fold_cv(\n",
    "    ...                 my_regr, x_N3, y_N, n_folds=n_folds, random_state=0)\n",
    "\n",
    "    # Training error should be indistiguishable from zero\n",
    "    >>> np.array2string(tr_K, precision=8, suppress_small=True)\n",
    "    '[0. 0. 0. 0. 0. 0. 0.]'\n",
    "\n",
    "    # Testing error should be indistinguishable from zero\n",
    "    >>> np.array2string(te_K, precision=8, suppress_small=True)\n",
    "    '[0. 0. 0. 0. 0. 0. 0.]'\n",
    "    '''\n",
    "    train_error_per_fold = np.zeros(n_folds, dtype=np.float32)\n",
    "    test_error_per_fold = np.zeros(n_folds, dtype=np.float32)\n",
    "\n",
    "    # TODO define the folds here by calling your function\n",
    "    # e.g. ... = make_train_and_test_row_ids_for_n_fold_cv(...)\n",
    "    train_ids_per_fold, test_ids_per_fold = make_train_and_test_row_ids_for_n_fold_cv(x_NF.shape[0], n_folds=n_folds, random_state=random_state)\n",
    "\n",
    "    # TODO loop over folds and compute the train and test error\n",
    "    # for the provided estimator\n",
    "            \n",
    "    train_error_per_fold = np.array([])\n",
    "    test_error_per_fold = np.array([])\n",
    "    for idx in range(n_folds):\n",
    "        train_idxs = train_ids_per_fold[idx]\n",
    "        test_idxs = test_ids_per_fold[idx]\n",
    "        \n",
    "        x_curr_train, x_curr_test = x_NF[train_idxs], x_NF[test_idxs]\n",
    "        y_curr_train, y_curr_test = y_N[train_idxs], y_N[test_idxs]\n",
    "        estimator.fit(x_curr_train, y_curr_train)\n",
    "        y_pred_train = estimator.predict(x_curr_train)\n",
    "        y_pred_test = estimator.predict(x_curr_test)\n",
    "        \n",
    "        train_error_per_fold = np.append(\n",
    "            train_error_per_fold, \n",
    "            [calc_root_mean_squared_error(y_curr_train, y_pred_train)]\n",
    "            )\n",
    "        test_error_per_fold = np.append(\n",
    "            test_error_per_fold,\n",
    "            [calc_root_mean_squared_error(y_curr_test, y_pred_test)]\n",
    "        )\n",
    "        \n",
    "        \n",
    "\n",
    "    return train_error_per_fold, test_error_per_fold"
   ]
  },
  {
   "cell_type": "code",
   "execution_count": 33,
   "id": "ead68bdd-f147-4910-a62f-244e39fe3135",
   "metadata": {},
   "outputs": [
    {
     "data": {
      "text/plain": [
       "(101,)"
      ]
     },
     "execution_count": 33,
     "metadata": {},
     "output_type": "execute_result"
    }
   ],
   "source": [
    "    # Create simple dataset of N examples where y given x\n",
    "    # is perfectly explained by a linear regression model\n",
    "N = 101\n",
    "n_folds = 7\n",
    "x_N3 = np.random.RandomState(0).rand(N, 3)\n",
    "y_N = np.dot(x_N3, np.asarray([1., -2.0, 3.0])) - 1.3337\n",
    "y_N.shape\n"
   ]
  },
  {
   "cell_type": "code",
   "execution_count": 37,
   "id": "0cc1a00d-71e0-497d-9e2d-d754234bf338",
   "metadata": {},
   "outputs": [],
   "source": [
    "import sklearn.linear_model\n",
    "my_regr = sklearn.linear_model.LinearRegression()\n",
    "tr_K, te_K = train_models_and_calc_scores_for_n_fold_cv(\n",
    "    my_regr, \n",
    "    x_N3, \n",
    "    y_N, \n",
    "    n_folds=n_folds, \n",
    "    random_state=0\n",
    ")\n"
   ]
  },
  {
   "cell_type": "code",
   "execution_count": 38,
   "id": "c6f4488b-b209-4b20-9cfe-bb4cd1e685ff",
   "metadata": {},
   "outputs": [
    {
     "data": {
      "text/plain": [
       "'[0. 0. 0. 0. 0. 0. 0.]'"
      ]
     },
     "execution_count": 38,
     "metadata": {},
     "output_type": "execute_result"
    }
   ],
   "source": [
    "# Training error should be indistiguishable from zero\n",
    "np.array2string(tr_K, precision=8, suppress_small=True)\n",
    "#'[0. 0. 0. 0. 0. 0. 0.]'"
   ]
  },
  {
   "cell_type": "code",
   "execution_count": 39,
   "id": "f0d139e8-c70f-4ffc-b78c-495162b2e07e",
   "metadata": {},
   "outputs": [
    {
     "data": {
      "text/plain": [
       "'[0. 0. 0. 0. 0. 0. 0.]'"
      ]
     },
     "execution_count": 39,
     "metadata": {},
     "output_type": "execute_result"
    }
   ],
   "source": [
    "# Testing error should be indistinguishable from zero\n",
    "np.array2string(te_K, precision=8, suppress_small=True)\n",
    "#'[0. 0. 0. 0. 0. 0. 0.]'"
   ]
  },
  {
   "cell_type": "markdown",
   "id": "bfe42ea1-88a4-4f39-8ec4-e03c1db77aac",
   "metadata": {
    "jp-MarkdownHeadingCollapsed": true
   },
   "source": [
    "## Split Funcn Debug"
   ]
  },
  {
   "cell_type": "code",
   "execution_count": 13,
   "id": "1208198c-05a0-460e-a75a-dcfad8da81dd",
   "metadata": {},
   "outputs": [
    {
     "ename": "ValueError",
     "evalue": "setting an array element with a sequence. The requested array has an inhomogeneous shape after 1 dimensions. The detected shape was (3,) + inhomogeneous part.",
     "output_type": "error",
     "traceback": [
      "\u001b[1;31m---------------------------------------------------------------------------\u001b[0m",
      "\u001b[1;31mValueError\u001b[0m                                Traceback (most recent call last)",
      "Cell \u001b[1;32mIn[13], line 47\u001b[0m\n\u001b[0;32m     42\u001b[0m test_random_state\u001b[38;5;241m.\u001b[39mshuffle(test_indeces)    \n\u001b[0;32m     44\u001b[0m \u001b[38;5;66;03m# TODO establish the row ids that belong to each fold's\u001b[39;00m\n\u001b[0;32m     45\u001b[0m \u001b[38;5;66;03m# train subset and test subset\u001b[39;00m\n\u001b[1;32m---> 47\u001b[0m test_test_ids_per_fold \u001b[38;5;241m=\u001b[39m \u001b[43mnp\u001b[49m\u001b[38;5;241;43m.\u001b[39;49m\u001b[43marray\u001b[49m\u001b[43m(\u001b[49m\u001b[43mnp\u001b[49m\u001b[38;5;241;43m.\u001b[39;49m\u001b[43marray_split\u001b[49m\u001b[43m(\u001b[49m\u001b[43mtest_indeces\u001b[49m\u001b[43m,\u001b[49m\u001b[43m \u001b[49m\u001b[43mtest_n_folds\u001b[49m\u001b[43m)\u001b[49m\u001b[43m)\u001b[49m\n\u001b[0;32m     48\u001b[0m \u001b[38;5;66;03m# test_train_ids_per_fold = np.concatenate([np.delete(test_test_ids_per_fold, i) for i in range(test_n_folds)])\u001b[39;00m\n",
      "\u001b[1;31mValueError\u001b[0m: setting an array element with a sequence. The requested array has an inhomogeneous shape after 1 dimensions. The detected shape was (3,) + inhomogeneous part."
     ]
    }
   ],
   "source": [
    "test_n_examples=10\n",
    "test_n_folds=3\n",
    "test_random_state=0\n",
    "''' Divide row ids into train and test sets for n-fold cross validation.\n",
    "\n",
    "    Will *shuffle* the row ids via a pseudorandom number generator before\n",
    "    dividing into folds.\n",
    "\n",
    "    Args\n",
    "    ----\n",
    "    n_examples : int\n",
    "        Total number of examples to allocate into train/test sets\n",
    "    n_folds : int\n",
    "        Number of folds requested\n",
    "    random_state : int or numpy RandomState object\n",
    "        Pseudorandom number generator (or seed) for reproducibility\n",
    "\n",
    "    Returns\n",
    "    -------\n",
    "    train_ids_per_fold : list of 1D np.arrays\n",
    "        One entry per fold\n",
    "        Each entry is a 1-dim numpy array of unique integers between 0 to N\n",
    "    test_ids_per_fold : list of 1D np.arrays\n",
    "        One entry per fold\n",
    "        Each entry is a 1-dim numpy array of unique integers between 0 to N\n",
    "\n",
    "    Guarantees for Return Values\n",
    "    ----------------------------\n",
    "    Across all folds, guarantee that no two folds put same object in test set.\n",
    "    For each fold f, we need to guarantee:\n",
    "    * The *union* of train_ids_per_fold[f] and test_ids_per_fold[f]\n",
    "    is equal to [0, 1, ... N-1]\n",
    "    * The *intersection* of the two is the empty set\n",
    "    * The total size of train and test ids for any fold is equal to N\n",
    "    '''\n",
    "\n",
    "\n",
    "test_random_state = np.random.RandomState(seed=42)\n",
    "\n",
    "# TODO obtain a shuffled order of the n_examples\n",
    "test_indeces = np.arange(0, test_n_examples+1, 1)\n",
    "test_random_state.shuffle(test_indeces)    \n",
    "\n",
    "# TODO establish the row ids that belong to each fold's\n",
    "# train subset and test subset\n",
    "\n",
    "test_test_ids_per_fold = np.array_split(test_indeces, test_n_folds)\n",
    "# test_train_ids_per_fold = np.concatenate([np.delete(test_test_ids_per_fold, i) for i in range(test_n_folds)])\n",
    "\n"
   ]
  },
  {
   "cell_type": "code",
   "execution_count": 10,
   "id": "443177d8-0436-4f37-8aa1-713f3fbf27ce",
   "metadata": {},
   "outputs": [
    {
     "data": {
      "text/plain": [
       "[array([ 5,  0,  9, 10]), array([2, 1, 8, 4]), array([7, 3, 6])]"
      ]
     },
     "execution_count": 10,
     "metadata": {},
     "output_type": "execute_result"
    }
   ],
   "source": [
    "test_test_ids_per_fold"
   ]
  },
  {
   "cell_type": "code",
   "execution_count": 12,
   "id": "c4d1dcdb-ccea-4c53-a765-a7353f889d32",
   "metadata": {},
   "outputs": [
    {
     "ename": "ValueError",
     "evalue": "setting an array element with a sequence. The requested array has an inhomogeneous shape after 1 dimensions. The detected shape was (3,) + inhomogeneous part.",
     "output_type": "error",
     "traceback": [
      "\u001b[1;31m---------------------------------------------------------------------------\u001b[0m",
      "\u001b[1;31mValueError\u001b[0m                                Traceback (most recent call last)",
      "Cell \u001b[1;32mIn[12], line 1\u001b[0m\n\u001b[1;32m----> 1\u001b[0m \u001b[43mnp\u001b[49m\u001b[38;5;241;43m.\u001b[39;49m\u001b[43mdelete\u001b[49m\u001b[43m(\u001b[49m\u001b[43mtest_test_ids_per_fold\u001b[49m\u001b[43m,\u001b[49m\u001b[43m \u001b[49m\u001b[38;5;241;43m1\u001b[39;49m\u001b[43m,\u001b[49m\u001b[43m \u001b[49m\u001b[38;5;241;43m0\u001b[39;49m\u001b[43m)\u001b[49m\n",
      "File \u001b[1;32mC:\\Program Files\\Python312\\Lib\\site-packages\\numpy\\lib\\function_base.py:5245\u001b[0m, in \u001b[0;36mdelete\u001b[1;34m(arr, obj, axis)\u001b[0m\n\u001b[0;32m   5242\u001b[0m     \u001b[38;5;28;01mexcept\u001b[39;00m \u001b[38;5;167;01mAttributeError\u001b[39;00m:\n\u001b[0;32m   5243\u001b[0m         \u001b[38;5;28;01mpass\u001b[39;00m\n\u001b[1;32m-> 5245\u001b[0m arr \u001b[38;5;241m=\u001b[39m \u001b[43masarray\u001b[49m\u001b[43m(\u001b[49m\u001b[43marr\u001b[49m\u001b[43m)\u001b[49m\n\u001b[0;32m   5246\u001b[0m ndim \u001b[38;5;241m=\u001b[39m arr\u001b[38;5;241m.\u001b[39mndim\n\u001b[0;32m   5247\u001b[0m arrorder \u001b[38;5;241m=\u001b[39m \u001b[38;5;124m'\u001b[39m\u001b[38;5;124mF\u001b[39m\u001b[38;5;124m'\u001b[39m \u001b[38;5;28;01mif\u001b[39;00m arr\u001b[38;5;241m.\u001b[39mflags\u001b[38;5;241m.\u001b[39mfnc \u001b[38;5;28;01melse\u001b[39;00m \u001b[38;5;124m'\u001b[39m\u001b[38;5;124mC\u001b[39m\u001b[38;5;124m'\u001b[39m\n",
      "\u001b[1;31mValueError\u001b[0m: setting an array element with a sequence. The requested array has an inhomogeneous shape after 1 dimensions. The detected shape was (3,) + inhomogeneous part."
     ]
    }
   ],
   "source": [
    "np.delete(test_test_ids_per_fold, 1, 0)"
   ]
  },
  {
   "cell_type": "code",
   "execution_count": 26,
   "id": "6f39cdea-7228-4edf-a56a-b1ebd1759ef5",
   "metadata": {},
   "outputs": [
    {
     "data": {
      "text/plain": [
       "[array([2, 1, 8, 4, 7, 3, 6]),\n",
       " array([ 5,  0,  9, 10,  7,  3,  6]),\n",
       " array([ 5,  0,  9, 10,  2,  1,  8,  4])]"
      ]
     },
     "execution_count": 26,
     "metadata": {},
     "output_type": "execute_result"
    }
   ],
   "source": [
    "[np.concatenate(list(\n",
    "    filter(\n",
    "        lambda current_train_fold: not np.array_equal(current_train_fold, current_test_fold), \n",
    "        test_test_ids_per_fold\n",
    "    ))\n",
    ") for current_test_fold in test_test_ids_per_fold]"
   ]
  },
  {
   "cell_type": "code",
   "execution_count": 23,
   "id": "44d7e254-165b-4f4d-8e6e-b3650fab37e5",
   "metadata": {},
   "outputs": [
    {
     "data": {
      "text/plain": [
       "[array([2, 1, 8, 4]), array([7, 3, 6])]"
      ]
     },
     "execution_count": 23,
     "metadata": {},
     "output_type": "execute_result"
    }
   ],
   "source": [
    "list(filter(\n",
    "        lambda current_train_fold: not np.array_equal(current_train_fold, np.array([5, 0, 9, 10])), \n",
    "        test_test_ids_per_fold\n",
    "))"
   ]
  },
  {
   "cell_type": "code",
   "execution_count": null,
   "id": "89a822e3-028a-42c2-8312-83c9c360f0e6",
   "metadata": {},
   "outputs": [],
   "source": []
  }
 ],
 "metadata": {
  "kernelspec": {
   "display_name": "Python 3 (ipykernel)",
   "language": "python",
   "name": "python3"
  },
  "language_info": {
   "codemirror_mode": {
    "name": "ipython",
    "version": 3
   },
   "file_extension": ".py",
   "mimetype": "text/x-python",
   "name": "python",
   "nbconvert_exporter": "python",
   "pygments_lexer": "ipython3",
   "version": "3.12.5"
  }
 },
 "nbformat": 4,
 "nbformat_minor": 5
}
