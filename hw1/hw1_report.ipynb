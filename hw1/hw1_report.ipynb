{
 "cells": [
  {
   "cell_type": "markdown",
   "metadata": {},
   "source": [
    "# HW1 : Regression, Cross-Validation, and  Regularization"
   ]
  },
  {
   "cell_type": "code",
   "execution_count": 1,
   "metadata": {},
   "outputs": [],
   "source": [
    "import os\n",
    "import numpy as np\n",
    "import pandas as pd\n",
    " \n",
    "import sklearn.preprocessing\n",
    "import sklearn.pipeline\n",
    "import sklearn.linear_model"
   ]
  },
  {
   "cell_type": "code",
   "execution_count": 2,
   "metadata": {},
   "outputs": [],
   "source": [
    "from matplotlib import pyplot as plt\n",
    "\n",
    "import seaborn as sns\n",
    "#This sets the default style for all figures. \n",
    "sns.set('notebook', font_scale=1.25, style='whitegrid')"
   ]
  },
  {
   "cell_type": "markdown",
   "metadata": {},
   "source": [
    "### Configuration\n",
    "\n",
    "You may need to adjust your data directory to point towards the auto data. "
   ]
  },
  {
   "cell_type": "code",
   "execution_count": 12,
   "metadata": {},
   "outputs": [],
   "source": [
    "SEED = 12345 \n",
    "\n",
    "DATA_DIR = 'data_auto/'"
   ]
  },
  {
   "cell_type": "markdown",
   "metadata": {},
   "source": [
    "# Helper Functions\n",
    "\n",
    "These notebook sections contain helper functions which you **do not need to alter**.  "
   ]
  },
  {
   "cell_type": "markdown",
   "metadata": {},
   "source": [
    "### Methods for loading dataset"
   ]
  },
  {
   "cell_type": "code",
   "execution_count": 4,
   "metadata": {},
   "outputs": [],
   "source": [
    "def load_2d_arr_from_csv(fname, include_header=False):\n",
    "    x = np.loadtxt(os.path.join(DATA_DIR, fname), delimiter=',', skiprows=1)\n",
    "    assert x.ndim == 2\n",
    "    if include_header:\n",
    "        header_cols = np.loadtxt(os.path.join(DATA_DIR, fname), delimiter=',', dtype=str)[0].tolist()\n",
    "        return x, header_cols\n",
    "    else:\n",
    "        return x\n",
    "    \n",
    "def load_1d_arr_from_csv(fname):\n",
    "    x = np.loadtxt(os.path.join(DATA_DIR, fname), delimiter=',', skiprows=1)\n",
    "    if x.ndim == 1:\n",
    "        return x\n",
    "    else:\n",
    "        raise ValueError(\"Not 1d\")"
   ]
  },
  {
   "cell_type": "markdown",
   "metadata": {},
   "source": [
    "### Plotting methods"
   ]
  },
  {
   "cell_type": "code",
   "execution_count": 5,
   "metadata": {},
   "outputs": [],
   "source": [
    "def plot_train_and_valid_error_vs_hyper(\n",
    "        hyper_list, err_tr_list=None, err_va_list=None,\n",
    "        ymax=40,\n",
    "        leg_loc='upper right',\n",
    "        xlabel='polynomial degree',\n",
    "        ylabel='RMSE'):\n",
    "    if err_va_list is not None:\n",
    "        plt.plot(hyper_list, err_va_list, 'rs-', label='valid');\n",
    "    if err_tr_list is not None:\n",
    "        plt.plot(hyper_list, err_tr_list, 'bd:', label='train');\n",
    "    plt.ylim([0, ymax]);\n",
    "    plt.legend(loc=leg_loc);\n",
    "    plt.xlabel(xlabel);\n",
    "    plt.ylabel(ylabel);"
   ]
  },
  {
   "cell_type": "markdown",
   "metadata": {},
   "source": [
    "### Method to sanitize predictions\n",
    "\n",
    "For many regression problems certain values might be impossible or improbable (such as in this case where we can't have a negative miles-per-gallon). However, most machine learning models cannot learn these types of strict rules. Thus, a common practice in ML is to **sanatize** predictions made by a model, confining them to be within reasonable bounds. \n",
    "\n",
    "Here we are predicting MPG, which should \n",
    "* (1) always be positive, and\n",
    "* (2) will probably never exceed 120% of the largest value we see in train data\n",
    "\n",
    "All model predictions should be sanitized before being used. "
   ]
  },
  {
   "cell_type": "code",
   "execution_count": 6,
   "metadata": {},
   "outputs": [],
   "source": [
    "def sanitize(yhat_N):\n",
    "    yhat_N = np.maximum(yhat_N, 0)\n",
    "    yhat_N = np.minimum(yhat_N, Y_MAX)\n",
    "    return yhat_N"
   ]
  },
  {
   "cell_type": "markdown",
   "metadata": {},
   "source": [
    "## Methods for building pipelines\n",
    "\n",
    "These are sklearn pipelines, which define a series of steps that can then be treated as if they were a single classifier.  "
   ]
  },
  {
   "cell_type": "code",
   "execution_count": 7,
   "metadata": {},
   "outputs": [],
   "source": [
    "def make_poly_linear_regr_pipeline(degree=1):\n",
    "    pipeline = sklearn.pipeline.Pipeline(\n",
    "        steps=[\n",
    "         ('rescaler', sklearn.preprocessing.MinMaxScaler()),\n",
    "         ('poly_transformer', sklearn.preprocessing.PolynomialFeatures(degree=degree, include_bias=False)),\n",
    "         ('linear_regr', sklearn.linear_model.LinearRegression()),\n",
    "        ])\n",
    "    \n",
    "    # Return the constructed pipeline\n",
    "    # We can treat it as if it has a 'regression' API\n",
    "    # e.g. a fit and a predict method\n",
    "    return pipeline"
   ]
  },
  {
   "cell_type": "code",
   "execution_count": 36,
   "metadata": {},
   "outputs": [],
   "source": [
    "def make_unscaled_poly_linear_regr_pipeline(degree=1):\n",
    "    pipeline = sklearn.pipeline.Pipeline(\n",
    "        steps=[\n",
    "         # ('rescaler', sklearn.preprocessing.MinMaxScaler()),\n",
    "         ('poly_transformer', sklearn.preprocessing.PolynomialFeatures(degree=degree, include_bias=False)),\n",
    "         ('linear_regr', sklearn.linear_model.LinearRegression()),\n",
    "        ])\n",
    "    \n",
    "    # Return the constructed pipeline\n",
    "    # We can treat it as if it has a 'regression' API\n",
    "    # e.g. a fit and a predict method\n",
    "    return pipeline"
   ]
  },
  {
   "cell_type": "code",
   "execution_count": 8,
   "metadata": {},
   "outputs": [],
   "source": [
    "def make_poly_ridge_regr_pipeline(degree=1, alpha=1.0):\n",
    "    pipeline = sklearn.pipeline.Pipeline(\n",
    "        steps=[\n",
    "         ('rescaler', sklearn.preprocessing.MinMaxScaler()),\n",
    "         ('poly_transformer', sklearn.preprocessing.PolynomialFeatures(degree=degree, include_bias=False)),\n",
    "         ('linear_regr', sklearn.linear_model.Ridge(alpha=alpha)),\n",
    "        ])\n",
    "\n",
    "    # Return the constructed pipeline\n",
    "    # We can treat it as if it has a 'regression' API\n",
    "    # e.g. a fit and a predict method\n",
    "    return pipeline"
   ]
  },
  {
   "cell_type": "markdown",
   "metadata": {},
   "source": [
    "## Method to inspect learned weights\n",
    "\n",
    "Use this function when asked to display learned parameters."
   ]
  },
  {
   "cell_type": "code",
   "execution_count": 38,
   "metadata": {},
   "outputs": [],
   "source": [
    "def pretty_print_learned_weights(pipeline, xcolnames_F):\n",
    "    ''' Print the learned parameters of given pipeline\n",
    "    '''\n",
    "    my_lin_regr = pipeline.named_steps['linear_regr']\n",
    "\n",
    "    feat_names = pipeline.named_steps['poly_transformer'].get_feature_names_out()\n",
    "    coef_values = my_lin_regr.coef_\n",
    "\n",
    "    for feat, coef in zip(feat_names, coef_values):\n",
    "        print(\"% 7.2f : %s\" % (coef, feat))\n",
    "    \n",
    "    print(\"where \")\n",
    "    for ff, colname in enumerate(xcolnames_F):\n",
    "        print(\"x%d = %s\" % (ff, colname))"
   ]
  },
  {
   "cell_type": "markdown",
   "metadata": {},
   "source": [
    "# Analysis\n",
    "\n",
    "The rest of this notebook is an analysis and report of the automobile dataset. Some of the steps of the analysis have already been completed for you. You need to complete the indicated sections in problems 1-3."
   ]
  },
  {
   "cell_type": "markdown",
   "metadata": {},
   "source": [
    "# Load the dataset\n",
    "\n",
    "First, we need to load the predefined 'x' and 'y' arrays for train/valid/test sets using the predefined helper function. "
   ]
  },
  {
   "cell_type": "code",
   "execution_count": 13,
   "metadata": {},
   "outputs": [],
   "source": [
    "x_tr_MF, xcolnames_F = load_2d_arr_from_csv('x_train.csv', include_header=True)\n",
    "x_va_NF = load_2d_arr_from_csv('x_valid.csv')\n",
    "x_te_PF = load_2d_arr_from_csv('x_test.csv')"
   ]
  },
  {
   "cell_type": "code",
   "execution_count": 14,
   "metadata": {},
   "outputs": [],
   "source": [
    "y_tr_M = load_1d_arr_from_csv('y_train.csv')\n",
    "y_va_N = load_1d_arr_from_csv('y_valid.csv')\n",
    "y_te_P = load_1d_arr_from_csv('y_test.csv')"
   ]
  },
  {
   "cell_type": "markdown",
   "metadata": {},
   "source": [
    "We can then take at various parts of our training data. "
   ]
  },
  {
   "cell_type": "code",
   "execution_count": 15,
   "metadata": {},
   "outputs": [
    {
     "name": "stdout",
     "output_type": "stream",
     "text": [
      "Feature Names: ['horsepower', 'weight', 'cylinders', 'displacement']\n",
      "Training data features:\n",
      " [[ 115. 2595.    6.  173.]\n",
      " [ 180. 4380.    8.  350.]\n",
      " [ 150. 4457.    8.  318.]\n",
      " [ 105. 3897.    6.  250.]\n",
      " [ 193. 4732.    8.  304.]]\n",
      "Training data MPGs:\n",
      " [[28.8]\n",
      " [16.5]\n",
      " [14. ]\n",
      " [16. ]\n",
      " [ 9. ]]\n"
     ]
    }
   ],
   "source": [
    "# Feature names\n",
    "print(\"Feature Names:\", xcolnames_F) \n",
    "\n",
    "# First 5 instances in our training data\n",
    "print(\"Training data features:\\n\", x_tr_MF[:5])\n",
    "\n",
    "# MPG for the first 5 instances\n",
    "print(\"Training data MPGs:\\n\", y_tr_M[:5,np.newaxis])"
   ]
  },
  {
   "cell_type": "markdown",
   "metadata": {},
   "source": [
    "Also, we need to set a `Y_MAX` variable so that the sanatize function works. "
   ]
  },
  {
   "cell_type": "code",
   "execution_count": 17,
   "metadata": {},
   "outputs": [
    {
     "data": {
      "text/plain": [
       "46.6"
      ]
     },
     "execution_count": 17,
     "metadata": {},
     "output_type": "execute_result"
    }
   ],
   "source": [
    "# Highest MPG in the training data\n",
    "y_tr_M.max()"
   ]
  },
  {
   "cell_type": "code",
   "execution_count": 18,
   "metadata": {},
   "outputs": [],
   "source": [
    "Y_MAX = y_tr_M.max()*1.2"
   ]
  },
  {
   "cell_type": "markdown",
   "metadata": {},
   "source": [
    "## Load completed code"
   ]
  },
  {
   "cell_type": "markdown",
   "metadata": {},
   "source": [
    "Now we load in the code you wrote in part of of the homework. "
   ]
  },
  {
   "cell_type": "code",
   "execution_count": 146,
   "metadata": {},
   "outputs": [],
   "source": [
    "from performance_metrics import calc_root_mean_squared_error\n",
    "from cross_validation import train_models_and_calc_scores_for_n_fold_cv"
   ]
  },
  {
   "cell_type": "markdown",
   "metadata": {},
   "source": [
    "# Problem 1: Polynomial Degree Selection on Fixed Validation Set\n",
    "\n",
    "**Implementation Step 1A:**\n",
    "\n",
    "Fit a linear regression model to a polynomial feature transformation of the provided training set at each of these possible degrees: [1, 2, 3, 4, 5, 6, 7]. For each hyperparameter setting, record the training set error and the validation set error in terms of RMSE."
   ]
  },
  {
   "cell_type": "code",
   "execution_count": 28,
   "metadata": {},
   "outputs": [],
   "source": [
    "degree_list = [1, 2, 3, 4, 5, 6, 7]\n",
    "fv_err_tr_list = []\n",
    "fv_err_va_list = []\n",
    "\n",
    "fv_pipeline_list = []\n",
    "for degree in degree_list:\n",
    "\n",
    "    # TODO create a pipeline using features with current degree value\n",
    "    # TODO train this pipeline on provided training data (x_tr_MF, y_train_M)\n",
    "    poly_linear_pipeline_problem_1 = make_poly_linear_regr_pipeline(degree)\n",
    "    poly_linear_pipeline_problem_1.fit(x_tr_MF, y_tr_M)\n",
    "    \n",
    "    # Compute training error\n",
    "    yhat_tr_M = sanitize(poly_linear_pipeline_problem_1.predict(x_tr_MF))  # TODO fixme, be sure to sanitize predictions\n",
    "    yhat_va_N = sanitize(poly_linear_pipeline_problem_1.predict(x_va_NF))  # TODO fixme, be sure to sanitize predictions\n",
    "\n",
    "    err_tr = calc_root_mean_squared_error(y_tr_M, yhat_tr_M) # TODO fixme\n",
    "    err_va = calc_root_mean_squared_error(y_va_N, yhat_va_N) # TODO fixme\n",
    "\n",
    "    fv_err_tr_list.append(err_tr)\n",
    "    fv_err_va_list.append(err_va)\n",
    "    \n",
    "    # TODO store current pipeline for future use\n",
    "    fv_pipeline_list.append(poly_linear_pipeline_problem_1)"
   ]
  },
  {
   "cell_type": "code",
   "execution_count": 29,
   "metadata": {},
   "outputs": [
    {
     "name": "stdout",
     "output_type": "stream",
     "text": [
      "Degree 1 produced the following RMSEs: Training Data: 4.237313, Validation Data: 4.360352\n",
      "Degree 2 produced the following RMSEs: Training Data: 3.734677, Validation Data: 3.974075\n",
      "Degree 3 produced the following RMSEs: Training Data: 3.38421, Validation Data: 4.157264\n",
      "Degree 4 produced the following RMSEs: Training Data: 2.9005, Validation Data: 5.891522\n",
      "Degree 5 produced the following RMSEs: Training Data: 2.290656, Validation Data: 14.872595\n",
      "Degree 6 produced the following RMSEs: Training Data: 0.546188, Validation Data: 26.661354\n",
      "Degree 7 produced the following RMSEs: Training Data: 0.117892, Validation Data: 27.589121\n"
     ]
    }
   ],
   "source": [
    "# Overview of polynomial results\n",
    "for idx, deg in enumerate(degree_list):\n",
    "    print(\"Degree {} produced the following RMSEs: Training Data: {}, Validation Data: {}\".format(deg, fv_err_tr_list[idx], fv_err_va_list[idx]))"
   ]
  },
  {
   "cell_type": "markdown",
   "metadata": {},
   "source": [
    "### Implementation 1B: Score on the test set using the chosen model\n",
    "\n",
    "Select the model hyperparameters that *minimize* your fixed validation set error. Using your already-trained LinearRegression model with these best hyperparameters, compute error on the *test* set. Save this test set error value for later."
   ]
  },
  {
   "cell_type": "code",
   "execution_count": 32,
   "metadata": {},
   "outputs": [
    {
     "name": "stdout",
     "output_type": "stream",
     "text": [
      "Selected Parameters:\n",
      "degree 2\n",
      "Fixed validation set estimate of heldout error:\n",
      "3.97\n",
      "Error on the test-set:\n",
      "3.991503\n"
     ]
    }
   ],
   "source": [
    "print(\"Selected Parameters:\")\n",
    "print(\"degree 2\")\n",
    "print(\"Fixed validation set estimate of heldout error:\")\n",
    "print(\"3.97\")\n",
    "print(\"Error on the test-set:\")\n",
    "print(\"{}\".format(\n",
    "    calc_root_mean_squared_error(y_te_P, sanitize(fv_pipeline_list[1].predict(x_te_PF)))\n",
    "))"
   ]
  },
  {
   "cell_type": "code",
   "execution_count": 34,
   "metadata": {},
   "outputs": [],
   "source": [
    "# TODO store score on test set for later\n",
    "prob1_polydeg2_testerr = calc_root_mean_squared_error(y_te_P, sanitize(fv_pipeline_list[1].predict(x_te_PF)))"
   ]
  },
  {
   "cell_type": "markdown",
   "metadata": {},
   "source": [
    "### Figure 1: Error vs degree\n",
    "\n",
    "Once `fv_err_tr_list` and `fv_err_va_list` contain values from part 1A, you can re-run the plotting cell to generate figure 1 with the values you found. "
   ]
  },
  {
   "cell_type": "code",
   "execution_count": 35,
   "metadata": {},
   "outputs": [
    {
     "data": {
      "image/png": "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",
      "text/plain": [
       "<Figure size 640x480 with 1 Axes>"
      ]
     },
     "metadata": {},
     "output_type": "display_data"
    }
   ],
   "source": [
    "plot_train_and_valid_error_vs_hyper(\n",
    "    degree_list, fv_err_tr_list, fv_err_va_list, leg_loc='upper left');\n",
    "plt.title('RMSE vs. Degree');"
   ]
  },
  {
   "cell_type": "markdown",
   "metadata": {},
   "source": [
    "#### Figure 1: RMSE vs. Degree\n",
    "\n",
    "*Provide a 2 sentence caption answering the questions: How do validation and training error change as degree increases? What degree do you recommend based on this plot?*"
   ]
  },
  {
   "cell_type": "markdown",
   "metadata": {},
   "source": [
    "**Training error:** It decreases monotonically as the \"degree\" increases. The decrease appears linear from degrees 1 through 5. At degrees 6 and 7, there is a rapid drop approaching 0, which suggests the data is being overfit.\n",
    "\n",
    "**Validation error:** It decreases from degree 1 to 2, with the lowest value being attained at degree 2. Then it increases rapidly, plateauing at about 26 at degree 6.\n"
   ]
  },
  {
   "cell_type": "markdown",
   "metadata": {},
   "source": [
    "#### Short Answer 1A\n",
    "\n",
    "The starter code pipelines include a *preprocessing* step that rescales each feature column to be in the unit interval from 0 to 1. \n",
    "Why is this necessary for this particular dataset?\n",
    "What happens (in terms of both training error and test error) if this step is omitted?\n",
    "*Hint: Try removing this step and see.*"
   ]
  },
  {
   "cell_type": "code",
   "execution_count": null,
   "metadata": {},
   "outputs": [],
   "source": [
    "prob1_unscaled = make_unscaled_poly_linear_regr_pipeline(degree)\n",
    "prob1_unscaled.fit(x_tr_MF, y_tr_M)"
   ]
  },
  {
   "cell_type": "code",
   "execution_count": 49,
   "metadata": {
    "scrolled": true
   },
   "outputs": [
    {
     "name": "stdout",
     "output_type": "stream",
     "text": [
      "Parameters for model that uses feature scaling.\n",
      " -40.72 : x0\n",
      "  -7.20 : x1\n",
      " -11.00 : x2\n",
      " -11.10 : x3\n",
      "  -4.45 : x0^2\n",
      "   8.80 : x0 x1\n",
      "  26.38 : x0 x2\n",
      "   8.98 : x0 x3\n",
      " -31.77 : x1^2\n",
      "  27.17 : x1 x2\n",
      "  13.43 : x1 x3\n",
      "  21.76 : x2^2\n",
      " -80.86 : x2 x3\n",
      "  52.65 : x3^2\n",
      "where \n",
      "x0 = horsepower\n",
      "x1 = weight\n",
      "x2 = cylinders\n",
      "x3 = displacement\n",
      "Error metrics\n",
      " Train 3.734677 Validation 3.974075 Test 3.991503\n",
      "Parameters for model that doesn't use feature scaling.\n",
      "  -0.00 : x0\n",
      "  -0.00 : x1\n",
      "   0.00 : x2\n",
      "   0.00 : x3\n",
      "  -0.00 : x0^2\n",
      "  -0.00 : x0 x1\n",
      "   0.00 : x0 x2\n",
      "  -0.00 : x0 x3\n",
      "   0.00 : x1^2\n",
      "   0.00 : x1 x2\n",
      "   0.00 : x1 x3\n",
      "   0.00 : x2^2\n",
      "  -0.00 : x2 x3\n",
      "  -0.00 : x3^2\n",
      "  -0.00 : x0^3\n",
      "   0.00 : x0^2 x1\n",
      "   0.00 : x0^2 x2\n",
      "   0.00 : x0^2 x3\n",
      "  -0.00 : x0 x1^2\n",
      "   0.00 : x0 x1 x2\n",
      "  -0.00 : x0 x1 x3\n",
      "  -0.00 : x0 x2^2\n",
      "  -0.00 : x0 x2 x3\n",
      "   0.00 : x0 x3^2\n",
      "   0.00 : x1^3\n",
      "   0.00 : x1^2 x2\n",
      "  -0.00 : x1^2 x3\n",
      "  -0.00 : x1 x2^2\n",
      "  -0.00 : x1 x2 x3\n",
      "  -0.00 : x1 x3^2\n",
      "  -0.00 : x2^3\n",
      "   0.00 : x2^2 x3\n",
      "  -0.00 : x2 x3^2\n",
      "  -0.00 : x3^3\n",
      "  -0.00 : x0^4\n",
      "  -0.00 : x0^3 x1\n",
      "  -0.00 : x0^3 x2\n",
      "  -0.00 : x0^3 x3\n",
      "  -0.00 : x0^2 x1^2\n",
      "  -0.00 : x0^2 x1 x2\n",
      "  -0.00 : x0^2 x1 x3\n",
      "  -0.00 : x0^2 x2^2\n",
      "  -0.00 : x0^2 x2 x3\n",
      "  -0.00 : x0^2 x3^2\n",
      "  -0.00 : x0 x1^3\n",
      "  -0.00 : x0 x1^2 x2\n",
      "  -0.00 : x0 x1^2 x3\n",
      "  -0.00 : x0 x1 x2^2\n",
      "  -0.00 : x0 x1 x2 x3\n",
      "  -0.00 : x0 x1 x3^2\n",
      "  -0.00 : x0 x2^3\n",
      "  -0.00 : x0 x2^2 x3\n",
      "  -0.00 : x0 x2 x3^2\n",
      "  -0.00 : x0 x3^3\n",
      "   0.00 : x1^4\n",
      "   0.00 : x1^3 x2\n",
      "  -0.00 : x1^3 x3\n",
      "   0.00 : x1^2 x2^2\n",
      "  -0.00 : x1^2 x2 x3\n",
      "  -0.00 : x1^2 x3^2\n",
      "   0.00 : x1 x2^3\n",
      "  -0.00 : x1 x2^2 x3\n",
      "  -0.00 : x1 x2 x3^2\n",
      "  -0.00 : x1 x3^3\n",
      "  -0.00 : x2^4\n",
      "  -0.00 : x2^3 x3\n",
      "  -0.00 : x2^2 x3^2\n",
      "  -0.00 : x2 x3^3\n",
      "   0.00 : x3^4\n",
      "   0.00 : x0^5\n",
      "  -0.00 : x0^4 x1\n",
      "  -0.00 : x0^4 x2\n",
      "   0.00 : x0^4 x3\n",
      "  -0.00 : x0^3 x1^2\n",
      "  -0.00 : x0^3 x1 x2\n",
      "   0.00 : x0^3 x1 x3\n",
      "  -0.00 : x0^3 x2^2\n",
      "  -0.00 : x0^3 x2 x3\n",
      "   0.00 : x0^3 x3^2\n",
      "  -0.00 : x0^2 x1^3\n",
      "  -0.00 : x0^2 x1^2 x2\n",
      "   0.00 : x0^2 x1^2 x3\n",
      "  -0.00 : x0^2 x1 x2^2\n",
      "  -0.00 : x0^2 x1 x2 x3\n",
      "  -0.00 : x0^2 x1 x3^2\n",
      "  -0.00 : x0^2 x2^3\n",
      "  -0.00 : x0^2 x2^2 x3\n",
      "  -0.00 : x0^2 x2 x3^2\n",
      "  -0.00 : x0^2 x3^3\n",
      "  -0.00 : x0 x1^4\n",
      "  -0.00 : x0 x1^3 x2\n",
      "   0.00 : x0 x1^3 x3\n",
      "  -0.00 : x0 x1^2 x2^2\n",
      "  -0.00 : x0 x1^2 x2 x3\n",
      "  -0.00 : x0 x1^2 x3^2\n",
      "  -0.00 : x0 x1 x2^3\n",
      "  -0.00 : x0 x1 x2^2 x3\n",
      "  -0.00 : x0 x1 x2 x3^2\n",
      "  -0.00 : x0 x1 x3^3\n",
      "  -0.00 : x0 x2^4\n",
      "  -0.00 : x0 x2^3 x3\n",
      "   0.00 : x0 x2^2 x3^2\n",
      "  -0.00 : x0 x2 x3^3\n",
      "  -0.00 : x0 x3^4\n",
      "   0.00 : x1^5\n",
      "  -0.00 : x1^4 x2\n",
      "  -0.00 : x1^4 x3\n",
      "  -0.00 : x1^3 x2^2\n",
      "  -0.00 : x1^3 x2 x3\n",
      "   0.00 : x1^3 x3^2\n",
      "  -0.00 : x1^2 x2^3\n",
      "  -0.00 : x1^2 x2^2 x3\n",
      "  -0.00 : x1^2 x2 x3^2\n",
      "   0.00 : x1^2 x3^3\n",
      "  -0.00 : x1 x2^4\n",
      "  -0.00 : x1 x2^3 x3\n",
      "   0.00 : x1 x2^2 x3^2\n",
      "   0.00 : x1 x2 x3^3\n",
      "   0.00 : x1 x3^4\n",
      "  -0.00 : x2^5\n",
      "   0.00 : x2^4 x3\n",
      "   0.00 : x2^3 x3^2\n",
      "   0.00 : x2^2 x3^3\n",
      "   0.00 : x2 x3^4\n",
      "   0.00 : x3^5\n",
      "  -0.00 : x0^6\n",
      "   0.00 : x0^5 x1\n",
      "  -0.00 : x0^5 x2\n",
      "  -0.00 : x0^5 x3\n",
      "   0.00 : x0^4 x1^2\n",
      "  -0.00 : x0^4 x1 x2\n",
      "  -0.00 : x0^4 x1 x3\n",
      "  -0.00 : x0^4 x2^2\n",
      "   0.00 : x0^4 x2 x3\n",
      "  -0.00 : x0^4 x3^2\n",
      "  -0.00 : x0^3 x1^3\n",
      "  -0.00 : x0^3 x1^2 x2\n",
      "   0.00 : x0^3 x1^2 x3\n",
      "  -0.00 : x0^3 x1 x2^2\n",
      "   0.00 : x0^3 x1 x2 x3\n",
      "  -0.00 : x0^3 x1 x3^2\n",
      "   0.00 : x0^3 x2^3\n",
      "   0.00 : x0^3 x2^2 x3\n",
      "   0.00 : x0^3 x2 x3^2\n",
      "   0.00 : x0^3 x3^3\n",
      "   0.00 : x0^2 x1^4\n",
      "   0.00 : x0^2 x1^3 x2\n",
      "  -0.00 : x0^2 x1^3 x3\n",
      "  -0.00 : x0^2 x1^2 x2^2\n",
      "   0.00 : x0^2 x1^2 x2 x3\n",
      "   0.00 : x0^2 x1^2 x3^2\n",
      "  -0.00 : x0^2 x1 x2^3\n",
      "   0.00 : x0^2 x1 x2^2 x3\n",
      "   0.00 : x0^2 x1 x2 x3^2\n",
      "   0.00 : x0^2 x1 x3^3\n",
      "  -0.00 : x0^2 x2^4\n",
      "   0.00 : x0^2 x2^3 x3\n",
      "   0.00 : x0^2 x2^2 x3^2\n",
      "   0.00 : x0^2 x2 x3^3\n",
      "  -0.00 : x0^2 x3^4\n",
      "  -0.00 : x0 x1^5\n",
      "   0.00 : x0 x1^4 x2\n",
      "   0.00 : x0 x1^4 x3\n",
      "  -0.00 : x0 x1^3 x2^2\n",
      "  -0.00 : x0 x1^3 x2 x3\n",
      "  -0.00 : x0 x1^3 x3^2\n",
      "  -0.00 : x0 x1^2 x2^3\n",
      "  -0.00 : x0 x1^2 x2^2 x3\n",
      "  -0.00 : x0 x1^2 x2 x3^2\n",
      "   0.00 : x0 x1^2 x3^3\n",
      "  -0.00 : x0 x1 x2^4\n",
      "   0.00 : x0 x1 x2^3 x3\n",
      "   0.00 : x0 x1 x2^2 x3^2\n",
      "  -0.00 : x0 x1 x2 x3^3\n",
      "  -0.00 : x0 x1 x3^4\n",
      "  -0.00 : x0 x2^5\n",
      "   0.00 : x0 x2^4 x3\n",
      "   0.00 : x0 x2^3 x3^2\n",
      "   0.00 : x0 x2^2 x3^3\n",
      "  -0.00 : x0 x2 x3^4\n",
      "  -0.00 : x0 x3^5\n",
      "  -0.00 : x1^6\n",
      "  -0.00 : x1^5 x2\n",
      "   0.00 : x1^5 x3\n",
      "   0.00 : x1^4 x2^2\n",
      "   0.00 : x1^4 x2 x3\n",
      "  -0.00 : x1^4 x3^2\n",
      "  -0.00 : x1^3 x2^3\n",
      "  -0.00 : x1^3 x2^2 x3\n",
      "  -0.00 : x1^3 x2 x3^2\n",
      "   0.00 : x1^3 x3^3\n",
      "  -0.00 : x1^2 x2^4\n",
      "   0.00 : x1^2 x2^3 x3\n",
      "   0.00 : x1^2 x2^2 x3^2\n",
      "  -0.00 : x1^2 x2 x3^3\n",
      "  -0.00 : x1^2 x3^4\n",
      "  -0.00 : x1 x2^5\n",
      "   0.00 : x1 x2^4 x3\n",
      "   0.00 : x1 x2^3 x3^2\n",
      "   0.00 : x1 x2^2 x3^3\n",
      "  -0.00 : x1 x2 x3^4\n",
      "   0.00 : x1 x3^5\n",
      "  -0.00 : x2^6\n",
      "   0.00 : x2^5 x3\n",
      "   0.00 : x2^4 x3^2\n",
      "   0.00 : x2^3 x3^3\n",
      "   0.00 : x2^2 x3^4\n",
      "   0.00 : x2 x3^5\n",
      "   0.00 : x3^6\n",
      "   0.00 : x0^7\n",
      "  -0.00 : x0^6 x1\n",
      "  -0.00 : x0^6 x2\n",
      "   0.00 : x0^6 x3\n",
      "   0.00 : x0^5 x1^2\n",
      "  -0.00 : x0^5 x1 x2\n",
      "  -0.00 : x0^5 x1 x3\n",
      "  -0.00 : x0^5 x2^2\n",
      "  -0.00 : x0^5 x2 x3\n",
      "   0.00 : x0^5 x3^2\n",
      "  -0.00 : x0^4 x1^3\n",
      "   0.00 : x0^4 x1^2 x2\n",
      "   0.00 : x0^4 x1^2 x3\n",
      "  -0.00 : x0^4 x1 x2^2\n",
      "  -0.00 : x0^4 x1 x2 x3\n",
      "  -0.00 : x0^4 x1 x3^2\n",
      "   0.00 : x0^4 x2^3\n",
      "   0.00 : x0^4 x2^2 x3\n",
      "  -0.00 : x0^4 x2 x3^2\n",
      "   0.00 : x0^4 x3^3\n",
      "   0.00 : x0^3 x1^4\n",
      "   0.00 : x0^3 x1^3 x2\n",
      "  -0.00 : x0^3 x1^3 x3\n",
      "  -0.00 : x0^3 x1^2 x2^2\n",
      "   0.00 : x0^3 x1^2 x2 x3\n",
      "   0.00 : x0^3 x1^2 x3^2\n",
      "   0.00 : x0^3 x1 x2^3\n",
      "   0.00 : x0^3 x1 x2^2 x3\n",
      "  -0.00 : x0^3 x1 x2 x3^2\n",
      "   0.00 : x0^3 x1 x3^3\n",
      "   0.00 : x0^3 x2^4\n",
      "   0.00 : x0^3 x2^3 x3\n",
      "   0.00 : x0^3 x2^2 x3^2\n",
      "  -0.00 : x0^3 x2 x3^3\n",
      "  -0.00 : x0^3 x3^4\n",
      "  -0.00 : x0^2 x1^5\n",
      "  -0.00 : x0^2 x1^4 x2\n",
      "   0.00 : x0^2 x1^4 x3\n",
      "  -0.00 : x0^2 x1^3 x2^2\n",
      "   0.00 : x0^2 x1^3 x2 x3\n",
      "  -0.00 : x0^2 x1^3 x3^2\n",
      "   0.00 : x0^2 x1^2 x2^3\n",
      "   0.00 : x0^2 x1^2 x2^2 x3\n",
      "   0.00 : x0^2 x1^2 x2 x3^2\n",
      "   0.00 : x0^2 x1^2 x3^3\n",
      "   0.00 : x0^2 x1 x2^4\n",
      "   0.00 : x0^2 x1 x2^3 x3\n",
      "   0.00 : x0^2 x1 x2^2 x3^2\n",
      "  -0.00 : x0^2 x1 x2 x3^3\n",
      "  -0.00 : x0^2 x1 x3^4\n",
      "   0.00 : x0^2 x2^5\n",
      "   0.00 : x0^2 x2^4 x3\n",
      "   0.00 : x0^2 x2^3 x3^2\n",
      "   0.00 : x0^2 x2^2 x3^3\n",
      "  -0.00 : x0^2 x2 x3^4\n",
      "   0.00 : x0^2 x3^5\n",
      "   0.00 : x0 x1^6\n",
      "   0.00 : x0 x1^5 x2\n",
      "  -0.00 : x0 x1^5 x3\n",
      "   0.00 : x0 x1^4 x2^2\n",
      "  -0.00 : x0 x1^4 x2 x3\n",
      "   0.00 : x0 x1^4 x3^2\n",
      "  -0.00 : x0 x1^3 x2^3\n",
      "  -0.00 : x0 x1^3 x2^2 x3\n",
      "   0.00 : x0 x1^3 x2 x3^2\n",
      "  -0.00 : x0 x1^3 x3^3\n",
      "  -0.00 : x0 x1^2 x2^4\n",
      "   0.00 : x0 x1^2 x2^3 x3\n",
      "  -0.00 : x0 x1^2 x2^2 x3^2\n",
      "  -0.00 : x0 x1^2 x2 x3^3\n",
      "   0.00 : x0 x1^2 x3^4\n",
      "  -0.00 : x0 x1 x2^5\n",
      "   0.00 : x0 x1 x2^4 x3\n",
      "   0.00 : x0 x1 x2^3 x3^2\n",
      "  -0.00 : x0 x1 x2^2 x3^3\n",
      "   0.00 : x0 x1 x2 x3^4\n",
      "  -0.00 : x0 x1 x3^5\n",
      "  -0.00 : x0 x2^6\n",
      "   0.00 : x0 x2^5 x3\n",
      "   0.00 : x0 x2^4 x3^2\n",
      "   0.00 : x0 x2^3 x3^3\n",
      "   0.00 : x0 x2^2 x3^4\n",
      "   0.00 : x0 x2 x3^5\n",
      "   0.00 : x0 x3^6\n",
      "   0.00 : x1^7\n",
      "   0.00 : x1^6 x2\n",
      "  -0.00 : x1^6 x3\n",
      "   0.00 : x1^5 x2^2\n",
      "  -0.00 : x1^5 x2 x3\n",
      "   0.00 : x1^5 x3^2\n",
      "  -0.00 : x1^4 x2^3\n",
      "  -0.00 : x1^4 x2^2 x3\n",
      "   0.00 : x1^4 x2 x3^2\n",
      "  -0.00 : x1^4 x3^3\n",
      "  -0.00 : x1^3 x2^4\n",
      "   0.00 : x1^3 x2^3 x3\n",
      "   0.00 : x1^3 x2^2 x3^2\n",
      "  -0.00 : x1^3 x2 x3^3\n",
      "   0.00 : x1^3 x3^4\n",
      "  -0.00 : x1^2 x2^5\n",
      "  -0.00 : x1^2 x2^4 x3\n",
      "   0.00 : x1^2 x2^3 x3^2\n",
      "   0.00 : x1^2 x2^2 x3^3\n",
      "   0.00 : x1^2 x2 x3^4\n",
      "  -0.00 : x1^2 x3^5\n",
      "  -0.00 : x1 x2^6\n",
      "  -0.00 : x1 x2^5 x3\n",
      "   0.00 : x1 x2^4 x3^2\n",
      "   0.00 : x1 x2^3 x3^3\n",
      "   0.00 : x1 x2^2 x3^4\n",
      "  -0.00 : x1 x2 x3^5\n",
      "   0.00 : x1 x3^6\n",
      "  -0.00 : x2^7\n",
      "   0.00 : x2^6 x3\n",
      "   0.00 : x2^5 x3^2\n",
      "   0.00 : x2^4 x3^3\n",
      "   0.00 : x2^3 x3^4\n",
      "   0.00 : x2^2 x3^5\n",
      "   0.00 : x2 x3^6\n",
      "  -0.00 : x3^7\n",
      "where \n",
      "x0 = horsepower\n",
      "x1 = weight\n",
      "x2 = cylinders\n",
      "x3 = displacement\n",
      "Error metrics Train 2.962887 Validation 11.309984 Test 11.725465\n"
     ]
    }
   ],
   "source": [
    "print(\"Parameters for model that uses feature scaling.\")\n",
    "pretty_print_learned_weights(fv_pipeline_list[1], xcolnames_F),\n",
    "print(\n",
    "    \"Error metrics\\n\",\n",
    "    \"Train {} Validation {} Test {}\".format(fv_err_tr_list[1], fv_err_va_list[1], prob1_polydeg2_testerr)\n",
    ")\n",
    "print(\"Parameters for model that doesn't use feature scaling.\")\n",
    "pretty_print_learned_weights(prob1_unscaled, xcolnames_F)\n",
    "print(\n",
    "    \"Error metrics\",\n",
    "    \"Train {} Validation {} Test {}\".format(\n",
    "        calc_root_mean_squared_error(y_tr_M, sanitize(prob1_unscaled.predict(x_tr_MF))),\n",
    "        calc_root_mean_squared_error(y_va_N, sanitize(prob1_unscaled.predict(x_va_NF))),\n",
    "        calc_root_mean_squared_error(y_te_P, sanitize(prob1_unscaled.predict(x_te_PF))),\n",
    "    )\n",
    ")"
   ]
  },
  {
   "cell_type": "markdown",
   "metadata": {},
   "source": [
    "**Anwer**: As you can see above, all the parameters of the regressor that doesn't use feature scaling get set to very small numbers. The error on the train set isn't too different but the errors on the validation and test set are almost 4 times higher. Feature scaling is necessary so that features whose values are very high (weight) don't get weighed differently than features whose values are low (cylinders) as the difference in the magnitude of these values affects the way the model sets the weights."
   ]
  },
  {
   "cell_type": "markdown",
   "metadata": {},
   "source": [
    "#### Short Answer 1B\n",
    "\n",
    "Consider the model with degree 1. \n",
    "Following the starter code, print out the values of **all** the learned weight parameters (aka coefficients).\n",
    "From these values, which feature has the highest positive impact on MPG? Which has the highest negative impact? Do these make sense?"
   ]
  },
  {
   "cell_type": "code",
   "execution_count": 51,
   "metadata": {},
   "outputs": [
    {
     "name": "stdout",
     "output_type": "stream",
     "text": [
      " -10.43 : x0\n",
      " -18.23 : x1\n",
      "  -1.15 : x2\n",
      "   0.58 : x3\n",
      "where \n",
      "x0 = horsepower\n",
      "x1 = weight\n",
      "x2 = cylinders\n",
      "x3 = displacement\n"
     ]
    }
   ],
   "source": [
    "# TODO call pretty_print_learned_weights on your pipeline with degree=1 from above\n",
    "# Hint: The names of the original F=4 features are already in your workspace\n",
    "pretty_print_learned_weights(fv_pipeline_list[0], xcolnames_F)"
   ]
  },
  {
   "cell_type": "markdown",
   "metadata": {},
   "source": [
    "The feature with the largest positive impact is **x3** or \"displacement.\" The feature with the largest negative impact is **x1** or \"weight.\"\n",
    "\n",
    "It makes sense that a car will utilize less gasoline moving a vehicle over a given distance if this vehicle is comparatively lighter than other vehicles. The impact of displacement is small (weight of 0.58), which suggests that there might be some basis on which you could claim that the larger the displacement of gasoline in an engine, the more efficient it is. A larger displacement means a car can burn more air and fuel, producing more power, and therefore, displacement is often an indicator of an engine's potential performance. Manufacturers often design their cars such that the engine coupling with the rest of the car meets some kind of efficiency standard."
   ]
  },
  {
   "cell_type": "markdown",
   "metadata": {},
   "source": [
    "# Problem 2: Alpha Selection on Fixed Val Set\n",
    "\n",
    "#### Implementation Step 2A \n",
    "\n",
    "Fix the degree at 4. Consider the below possible `alpha` values for L2-penalized linear regression, aka `Ridge`.\n",
    "\n",
    "Fit a L2-penalized linear regression pipeline for each alpha value above, then record that model's training set error and the validation set error."
   ]
  },
  {
   "cell_type": "code",
   "execution_count": 52,
   "metadata": {},
   "outputs": [
    {
     "name": "stdout",
     "output_type": "stream",
     "text": [
      "[1.e-10 1.e-08 1.e-06 1.e-04 1.e-02 1.e+00 1.e+02 1.e+04 1.e+06]\n"
     ]
    }
   ],
   "source": [
    "my_degree = 4\n",
    "alpha_list = np.asarray([1.e-10, 1.e-08, 1.e-06, 1.e-04, 1.e-02, 1.e+00, 1.e+02, 1.e+04, 1.e+06])\n",
    "print(alpha_list)"
   ]
  },
  {
   "cell_type": "code",
   "execution_count": 54,
   "metadata": {},
   "outputs": [],
   "source": [
    "fv2_err_tr_list = []\n",
    "fv2_err_va_list = []\n",
    "fv2_pipeline_list = []\n",
    "\n",
    "for alpha in alpha_list:\n",
    "\n",
    "    # TODO create a pipeline using features with current degree value\n",
    "    # TODO train this pipeline on provided training data\n",
    "    alpha_pipeline_problem_2 = make_poly_ridge_regr_pipeline(degree = 4, alpha = alpha)\n",
    "    alpha_pipeline_problem_2.fit(x_tr_MF, y_tr_M)\n",
    "    \n",
    "    # Compute predictions\n",
    "    yhat_tr_M = sanitize(alpha_pipeline_problem_2.predict(x_tr_MF))  # TODO fixme, be sure to sanitize predictions\n",
    "    yhat_va_N = sanitize(alpha_pipeline_problem_2.predict(x_va_NF))  # TODO fixme, be sure to sanitize predictions\n",
    "\n",
    "    assert np.all(yhat_va_N >= 0.0)\n",
    "    assert np.all(yhat_va_N <= Y_MAX)\n",
    "\n",
    "    # Calculate errors\n",
    "    err_tr = calc_root_mean_squared_error(y_tr_M, yhat_tr_M) # TODO fixme\n",
    "    err_va = calc_root_mean_squared_error(y_va_N, yhat_va_N) # TODO fixme\n",
    "\n",
    "    fv2_err_tr_list.append(err_tr)\n",
    "    fv2_err_va_list.append(err_va)\n",
    "\n",
    "    # TODO store current pipeline for future use\n",
    "    fv2_pipeline_list.append(alpha_pipeline_problem_2)"
   ]
  },
  {
   "cell_type": "code",
   "execution_count": 55,
   "metadata": {},
   "outputs": [
    {
     "name": "stdout",
     "output_type": "stream",
     "text": [
      "Degree 1e-10 produced the following RMSEs: Training Data: 2.900556, Validation Data: 5.884819\n",
      "Degree 1e-08 produced the following RMSEs: Training Data: 2.923625, Validation Data: 5.834062\n",
      "Degree 1e-06 produced the following RMSEs: Training Data: 3.069503, Validation Data: 4.280301\n",
      "Degree 0.0001 produced the following RMSEs: Training Data: 3.360597, Validation Data: 4.057066\n",
      "Degree 0.01 produced the following RMSEs: Training Data: 3.616048, Validation Data: 3.931388\n",
      "Degree 1.0 produced the following RMSEs: Training Data: 3.916736, Validation Data: 3.998782\n",
      "Degree 100.0 produced the following RMSEs: Training Data: 5.260844, Validation Data: 5.321071\n",
      "Degree 10000.0 produced the following RMSEs: Training Data: 7.953661, Validation Data: 7.37561\n",
      "Degree 1000000.0 produced the following RMSEs: Training Data: 8.228089, Validation Data: 7.589769\n"
     ]
    }
   ],
   "source": [
    "# Overview of ridge results\n",
    "for idx, alph in enumerate(alpha_list):\n",
    "    print(\"Degree {} produced the following RMSEs: Training Data: {}, Validation Data: {}\".format(alph, fv2_err_tr_list[idx], fv2_err_va_list[idx]))"
   ]
  },
  {
   "cell_type": "markdown",
   "metadata": {},
   "source": [
    "### Figure 2 in report\n",
    "\n",
    "Make a line plot of mean-squared error on y-axis vs. alpha on x-axis."
   ]
  },
  {
   "cell_type": "code",
   "execution_count": 56,
   "metadata": {},
   "outputs": [
    {
     "data": {
      "image/png": "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",
      "text/plain": [
       "<Figure size 640x480 with 1 Axes>"
      ]
     },
     "metadata": {},
     "output_type": "display_data"
    }
   ],
   "source": [
    "plot_train_and_valid_error_vs_hyper(\n",
    "    alpha_list, fv2_err_tr_list, fv2_err_va_list,\n",
    "    xlabel='alpha (L2 penalty)', leg_loc='upper left');\n",
    "plt.gca().set_ylim([0, 10]);\n",
    "plt.gca().set_xscale('log');\n",
    "plt.title('Error vs. Alpha');"
   ]
  },
  {
   "cell_type": "markdown",
   "metadata": {},
   "source": [
    "#### Figure 2: Error vs. Alpha\n",
    "\n",
    "Provide a 2 sentence caption answering the questions: How do validation and training set RMSE change with alpha? Do any trends emerge?\n",
    "What alpha value do you recommend based on this plot?"
   ]
  },
  {
   "cell_type": "markdown",
   "metadata": {},
   "source": [
    "**Training Error:** RMSE increases monotonically, with an increasing gradient until it plateaus at an alpha value of \\($10^4$\\).\n",
    "\n",
    "**Validation Error:** RMSE decreases as alpha increases until \\($10^{-2}$\\), when it achieves its lowest value at 3.93. After \\($10^{-2}$\\), it follows the same increasing trend as the training error, increasing rapidly and plateauing at \\($\\alpha = 10^4$\\)."
   ]
  },
  {
   "cell_type": "markdown",
   "metadata": {},
   "source": [
    "#### Implementation Step 2B\n",
    "\n",
    "Select the model hyperparameters that *minimize* your fixed validation set error. Using your already-trained model with these best hyperparameters, compute error on the *test* set. \n"
   ]
  },
  {
   "cell_type": "code",
   "execution_count": 61,
   "metadata": {},
   "outputs": [],
   "source": [
    "from IPython.display import display, Math, Latex"
   ]
  },
  {
   "cell_type": "code",
   "execution_count": 65,
   "metadata": {},
   "outputs": [
    {
     "name": "stdout",
     "output_type": "stream",
     "text": [
      "Selected Parameters:\n"
     ]
    },
    {
     "data": {
      "text/latex": [
       "$\\displaystyle L2 = 10^{-2}$"
      ],
      "text/plain": [
       "<IPython.core.display.Math object>"
      ]
     },
     "metadata": {},
     "output_type": "display_data"
    },
    {
     "name": "stdout",
     "output_type": "stream",
     "text": [
      "Fixed validation set estimate of heldout error:\n",
      "3.93\n",
      "Error on the test-set:\n",
      "3.877668\n"
     ]
    }
   ],
   "source": [
    "print(\"Selected Parameters:\")\n",
    "display(Math(r\"L2 = 10^{-2}\"))\n",
    "print(\"Fixed validation set estimate of heldout error:\")\n",
    "print(\"3.93\")\n",
    "print(\"Error on the test-set:\")\n",
    "print(\"{}\".format(\n",
    "    calc_root_mean_squared_error(y_te_P, sanitize(fv2_pipeline_list[4].predict(x_te_PF)))\n",
    "))"
   ]
  },
  {
   "cell_type": "code",
   "execution_count": 66,
   "metadata": {},
   "outputs": [],
   "source": [
    "# TODO Save this test set error value for later.\n",
    "prob2_ridge_testerr = calc_root_mean_squared_error(y_te_P, sanitize(fv2_pipeline_list[4].predict(x_te_PF)))"
   ]
  },
  {
   "cell_type": "markdown",
   "metadata": {},
   "source": [
    "#### Short Answer 2a\n",
    "\n",
    "Inspect the learned weight parameters of your chosen degree-4 ridge regression model.\n",
    "How do their relative magnitudes compare to those you printed in 1b above?"
   ]
  },
  {
   "cell_type": "markdown",
   "metadata": {},
   "source": [
    "_What is 1c? There is no c part to problem 1. Did you mean the magnitudes of the chosen model from problem 1?_"
   ]
  },
  {
   "cell_type": "code",
   "execution_count": 77,
   "metadata": {},
   "outputs": [],
   "source": [
    "my_ridge_regr = fv2_pipeline_list[4].named_steps['linear_regr']\n",
    "my_poly_regr = fv_pipeline_list[1].named_steps['linear_regr']\n",
    "\n",
    "my_ridge_feat_names = fv2_pipeline_list[4].named_steps['poly_transformer'].get_feature_names_out()\n",
    "my_poly_feat_names = fv_pipeline_list[1].named_steps['poly_transformer'].get_feature_names_out()\n",
    "my_ridge_coef_values = my_ridge_regr.coef_\n",
    "my_poly_coef_values = my_poly_regr.coef_"
   ]
  },
  {
   "cell_type": "code",
   "execution_count": 141,
   "metadata": {},
   "outputs": [],
   "source": [
    "def format_coeffs(coeff):\n",
    "    coeff_list = coeff.split(\" \")\n",
    "    sep_exps = [x.split(\"^\") for x in coeff_list]\n",
    "    is_product = len(sep_exps) > 1\n",
    "    \n",
    "    if not is_product:\n",
    "        base = \"${}_{}\".format(coeff[0], coeff[1])\n",
    "        if \"^\" in coeff:\n",
    "            return \"^\".join([base, coeff.split(\"^\")[-1]])+\"$\"\n",
    "        return base+\"$\"\n",
    "\n",
    "    if is_product:\n",
    "        final_str = \"\"\n",
    "        for term in sep_exps:\n",
    "            exp = \"^\".join(term)\n",
    "            prefx = \"_\".join([exp[0], exp[1:]])\n",
    "            final_str = final_str+\" {}\".format(prefx)\n",
    "\n",
    "        final_str = \"$\"+final_str+\"$\"\n",
    "        return final_str"
   ]
  },
  {
   "cell_type": "code",
   "execution_count": 144,
   "metadata": {},
   "outputs": [
    {
     "data": {
      "image/png": "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",
      "text/plain": [
       "<Figure size 1300x600 with 1 Axes>"
      ]
     },
     "metadata": {},
     "output_type": "display_data"
    }
   ],
   "source": [
    "# Set the plot width\n",
    "plt.figure(figsize=(13, 6))\n",
    "\n",
    "# First line plot (Poly)\n",
    "sns.lineplot(\n",
    "    x=[format_coeffs(x) for x in my_poly_feat_names],\n",
    "    y=my_poly_coef_values,\n",
    "    color='blue',\n",
    "    marker='o',\n",
    "    label='Poly'\n",
    ")\n",
    "\n",
    "# Second line plot (Ridge)\n",
    "sns.lineplot(\n",
    "    x = [format_coeffs(x) for x in my_ridge_feat_names[:len(my_poly_feat_names)]],\n",
    "    y = my_ridge_coef_values[:len(my_poly_feat_names)],\n",
    "    color='red',\n",
    "    marker='o',\n",
    "    label='Ridge'\n",
    ")\n",
    "\n",
    "# Add title and axis labels\n",
    "plt.title('Coefficients: Poly vs Ridge')\n",
    "plt.xlabel('Coefficient Name')\n",
    "plt.ylabel('Coefficient Value')\n",
    "\n",
    "# Show the legend\n",
    "plt.legend()\n",
    "\n",
    "# Display the plot\n",
    "plt.show()"
   ]
  },
  {
   "cell_type": "markdown",
   "metadata": {},
   "source": [
    "The plot above compares the coefficients of polynomial regression and ridge regression for the shared coefficients (note that ridge regression includes additional coefficients due to its higher degree). The values are visibly similar, and the contours of the two plots are alike. Both regressions evaluated their shared coefficients to approximately the same values."
   ]
  },
  {
   "cell_type": "markdown",
   "metadata": {},
   "source": [
    "#### Short Answer 2b in Report\n",
    "\n",
    "Your colleague suggests that you can determine the regularization strength `alpha` by minimizing the following loss on the *training* set:\n",
    "\n",
    "$$\n",
    "\\text{min}_{w \\in \\mathbb{R}^F, b \\in \\mathbb{R}, \\alpha \\ge 0}\n",
    "\\quad \\sum_{n=1}^N (y_n - \\hat{y}(x_n, w, b))^2 + \\alpha \\sum_{f=1}^F w_f^2\n",
    "$$\n",
    "\n",
    "What value of $\\alpha$ would you pick if you did this? Why is this problematic if your goal is to generalize to new data well?\n",
    "\n",
    "*Hint: Which value of $\\alpha$ would minimize this loss function?*"
   ]
  },
  {
   "cell_type": "markdown",
   "metadata": {},
   "source": [
    "THis function would reach it's minimum \\(assuming $\\alpha \\geq 0$\\) at $\\alpha=0$. This would be problematic as it would eliminate the penality given to the weights, essentially yielding an unpenalized model which defeats the purpose of using $\\alpha$ in the first place. "
   ]
  },
  {
   "cell_type": "markdown",
   "metadata": {},
   "source": [
    "# Data preprocessing for Problem 3"
   ]
  },
  {
   "cell_type": "markdown",
   "metadata": {},
   "source": [
    "For this problem, you'll again use the provided training set and validation sets. However, you'll *merge* these into a large \"development\" set that contains 292 examples total."
   ]
  },
  {
   "cell_type": "code",
   "execution_count": 148,
   "metadata": {},
   "outputs": [
    {
     "name": "stdout",
     "output_type": "stream",
     "text": [
      "(292, 4)\n"
     ]
    }
   ],
   "source": [
    "x_trva_LF = np.vstack([x_tr_MF, x_va_NF])\n",
    "y_trva_L = np.hstack([y_tr_M, y_va_N])\n",
    "\n",
    "print(x_trva_LF.shape)"
   ]
  },
  {
   "cell_type": "markdown",
   "metadata": {},
   "source": [
    "# Problem 3: Cross Validation for Polynomial Feature Regression"
   ]
  },
  {
   "cell_type": "markdown",
   "metadata": {},
   "source": [
    "### Implementation step 3A\n",
    "\n",
    "For each possible `alpha` value as well as each possible polynomial degree, train and evaluate a `Ridge` regression model across the entire train+validation set using 10-fold cross validation. Use the CV methods you implemented in `cross_validation.py`. For each possible hyperparameter (alpha value and degree value), your 10-fold CV procedure will give you an estimate of the training error and heldout validation error (averaged across all folds). \n"
   ]
  },
  {
   "cell_type": "code",
   "execution_count": null,
   "metadata": {},
   "outputs": [],
   "source": [
    "# # TEmplate \n",
    "# def train_models_and_calc_scores_for_n_fold_cv(\n",
    "#         estimator, x_NF, y_N, n_folds=3, random_state=0):"
   ]
  },
  {
   "cell_type": "code",
   "execution_count": null,
   "metadata": {},
   "outputs": [],
   "source": [
    "fv2_err_tr_list = []\n",
    "fv2_err_va_list = []\n",
    "fv2_pipeline_list = []\n",
    "\n",
    "for alpha in alpha_list:\n",
    "\n",
    "    # TODO create a pipeline using features with current degree value\n",
    "    # TODO train this pipeline on provided training data\n",
    "    alpha_pipeline_problem_2 = make_poly_ridge_regr_pipeline(degree = 4, alpha = alpha)\n",
    "    alpha_pipeline_problem_2.fit(x_tr_MF, y_tr_M)\n",
    "    \n",
    "    # Compute predictions\n",
    "    yhat_tr_M = sanitize(alpha_pipeline_problem_2.predict(x_tr_MF))  # TODO fixme, be sure to sanitize predictions\n",
    "    yhat_va_N = sanitize(alpha_pipeline_problem_2.predict(x_va_NF))  # TODO fixme, be sure to sanitize predictions\n",
    "\n",
    "    assert np.all(yhat_va_N >= 0.0)\n",
    "    assert np.all(yhat_va_N <= Y_MAX)\n",
    "\n",
    "    # Calculate errors\n",
    "    err_tr = calc_root_mean_squared_error(y_tr_M, yhat_tr_M) # TODO fixme\n",
    "    err_va = calc_root_mean_squared_error(y_va_N, yhat_va_N) # TODO fixme\n",
    "\n",
    "    fv2_err_tr_list.append(err_tr)\n",
    "    fv2_err_va_list.append(err_va)\n",
    "\n",
    "    # TODO store current pipeline for future use\n",
    "    fv2_pipeline_list.append(alpha_pipeline_problem_2)"
   ]
  },
  {
   "cell_type": "code",
   "execution_count": 149,
   "metadata": {},
   "outputs": [],
   "source": [
    "K = 10 # num folds of CV\n",
    "degree_list = [1, 2, 3, 4, 5, 6, 7]\n",
    "alpha_list = np.logspace(-10, 6, 17)\n",
    "\n",
    "ridge_param_list = []\n",
    "my_rand_state = np.random.RandomState(seed=42)\n",
    "for alpha in alpha_list:\n",
    "    for degree in degree_list:\n",
    "        ridge_param_list.append(dict(degree=degree, alpha=alpha))\n",
    "        \n",
    "cv_train_err_list = []\n",
    "cv_valid_err_list = []\n",
    "for param in ridge_param_list:\n",
    "    # TODO make pipeline\n",
    "    problem3_pipe = make_poly_ridge_regr_pipeline(degree = param['degree'], alpha = param['alpha'])\n",
    "    \n",
    "    # TODO call your function to train a separate model for each fold and return train and valid errors\n",
    "    # Don't forget to pass random_state = SEED (where SEED is defined above) so its reproducible\n",
    "    # tr_error_K, valid_error_K = train_models_and_calc_scores_for_n_fold_cv() # TODO\n",
    "    tr_K, te_K = train_models_and_calc_scores_for_n_fold_cv(\n",
    "        problem3_pipe, \n",
    "        x_trva_LF, \n",
    "        y_trva_L, \n",
    "        n_folds = K, \n",
    "        random_state = my_rand_state\n",
    "    )\n",
    "\n",
    "    err_tr = np.average(tr_K) # TODO fixme, compute average error across all train folds\n",
    "    err_va = np.average(te_K) # TODO fixme, compute average error across all heldout folds\n",
    "    \n",
    "    cv_train_err_list.append(err_tr)\n",
    "    cv_valid_err_list.append(err_va)"
   ]
  },
  {
   "cell_type": "markdown",
   "metadata": {},
   "source": [
    "### Implementation step 3B\n",
    "\n",
    "Select the model hyperparameters that *minimize* your estimated cross-validation error. Using these best hyperparameters, retrain the model using the full development set (concatenating the predefined training and validation sets). Then compute that (retrained) model's error on the test set.\n",
    "\n",
    "Save this test set error value for later."
   ]
  },
  {
   "cell_type": "code",
   "execution_count": 158,
   "metadata": {},
   "outputs": [
    {
     "data": {
      "text/plain": [
       "[58]"
      ]
     },
     "execution_count": 158,
     "metadata": {},
     "output_type": "execute_result"
    }
   ],
   "source": [
    "[np.where(cv_valid_err_list == np.min(cv_valid_err_list))[0][0]]"
   ]
  },
  {
   "cell_type": "code",
   "execution_count": 170,
   "metadata": {},
   "outputs": [
    {
     "name": "stdout",
     "output_type": "stream",
     "text": [
      "Best fit params:  {'degree': 3, 'alpha': 0.01} \n",
      "Train error: 3.7000230000000003 \n",
      "Heldout error: 3.7912391\n"
     ]
    }
   ],
   "source": [
    "best_fit_idx = np.where(cv_valid_err_list == np.min(cv_valid_err_list))[0][0]\n",
    "print(\n",
    "    \"Best fit params: \",\n",
    "    ridge_param_list[best_fit_idx],\n",
    "    \"\\nTrain error:\",\n",
    "    cv_train_err_list[best_fit_idx],\n",
    "    \"\\nHeldout error:\",\n",
    "    cv_valid_err_list[best_fit_idx]\n",
    ")"
   ]
  },
  {
   "cell_type": "code",
   "execution_count": 159,
   "metadata": {},
   "outputs": [
    {
     "data": {
      "text/html": [
       "<style>#sk-container-id-1 {\n",
       "  /* Definition of color scheme common for light and dark mode */\n",
       "  --sklearn-color-text: black;\n",
       "  --sklearn-color-line: gray;\n",
       "  /* Definition of color scheme for unfitted estimators */\n",
       "  --sklearn-color-unfitted-level-0: #fff5e6;\n",
       "  --sklearn-color-unfitted-level-1: #f6e4d2;\n",
       "  --sklearn-color-unfitted-level-2: #ffe0b3;\n",
       "  --sklearn-color-unfitted-level-3: chocolate;\n",
       "  /* Definition of color scheme for fitted estimators */\n",
       "  --sklearn-color-fitted-level-0: #f0f8ff;\n",
       "  --sklearn-color-fitted-level-1: #d4ebff;\n",
       "  --sklearn-color-fitted-level-2: #b3dbfd;\n",
       "  --sklearn-color-fitted-level-3: cornflowerblue;\n",
       "\n",
       "  /* Specific color for light theme */\n",
       "  --sklearn-color-text-on-default-background: var(--sg-text-color, var(--theme-code-foreground, var(--jp-content-font-color1, black)));\n",
       "  --sklearn-color-background: var(--sg-background-color, var(--theme-background, var(--jp-layout-color0, white)));\n",
       "  --sklearn-color-border-box: var(--sg-text-color, var(--theme-code-foreground, var(--jp-content-font-color1, black)));\n",
       "  --sklearn-color-icon: #696969;\n",
       "\n",
       "  @media (prefers-color-scheme: dark) {\n",
       "    /* Redefinition of color scheme for dark theme */\n",
       "    --sklearn-color-text-on-default-background: var(--sg-text-color, var(--theme-code-foreground, var(--jp-content-font-color1, white)));\n",
       "    --sklearn-color-background: var(--sg-background-color, var(--theme-background, var(--jp-layout-color0, #111)));\n",
       "    --sklearn-color-border-box: var(--sg-text-color, var(--theme-code-foreground, var(--jp-content-font-color1, white)));\n",
       "    --sklearn-color-icon: #878787;\n",
       "  }\n",
       "}\n",
       "\n",
       "#sk-container-id-1 {\n",
       "  color: var(--sklearn-color-text);\n",
       "}\n",
       "\n",
       "#sk-container-id-1 pre {\n",
       "  padding: 0;\n",
       "}\n",
       "\n",
       "#sk-container-id-1 input.sk-hidden--visually {\n",
       "  border: 0;\n",
       "  clip: rect(1px 1px 1px 1px);\n",
       "  clip: rect(1px, 1px, 1px, 1px);\n",
       "  height: 1px;\n",
       "  margin: -1px;\n",
       "  overflow: hidden;\n",
       "  padding: 0;\n",
       "  position: absolute;\n",
       "  width: 1px;\n",
       "}\n",
       "\n",
       "#sk-container-id-1 div.sk-dashed-wrapped {\n",
       "  border: 1px dashed var(--sklearn-color-line);\n",
       "  margin: 0 0.4em 0.5em 0.4em;\n",
       "  box-sizing: border-box;\n",
       "  padding-bottom: 0.4em;\n",
       "  background-color: var(--sklearn-color-background);\n",
       "}\n",
       "\n",
       "#sk-container-id-1 div.sk-container {\n",
       "  /* jupyter's `normalize.less` sets `[hidden] { display: none; }`\n",
       "     but bootstrap.min.css set `[hidden] { display: none !important; }`\n",
       "     so we also need the `!important` here to be able to override the\n",
       "     default hidden behavior on the sphinx rendered scikit-learn.org.\n",
       "     See: https://github.com/scikit-learn/scikit-learn/issues/21755 */\n",
       "  display: inline-block !important;\n",
       "  position: relative;\n",
       "}\n",
       "\n",
       "#sk-container-id-1 div.sk-text-repr-fallback {\n",
       "  display: none;\n",
       "}\n",
       "\n",
       "div.sk-parallel-item,\n",
       "div.sk-serial,\n",
       "div.sk-item {\n",
       "  /* draw centered vertical line to link estimators */\n",
       "  background-image: linear-gradient(var(--sklearn-color-text-on-default-background), var(--sklearn-color-text-on-default-background));\n",
       "  background-size: 2px 100%;\n",
       "  background-repeat: no-repeat;\n",
       "  background-position: center center;\n",
       "}\n",
       "\n",
       "/* Parallel-specific style estimator block */\n",
       "\n",
       "#sk-container-id-1 div.sk-parallel-item::after {\n",
       "  content: \"\";\n",
       "  width: 100%;\n",
       "  border-bottom: 2px solid var(--sklearn-color-text-on-default-background);\n",
       "  flex-grow: 1;\n",
       "}\n",
       "\n",
       "#sk-container-id-1 div.sk-parallel {\n",
       "  display: flex;\n",
       "  align-items: stretch;\n",
       "  justify-content: center;\n",
       "  background-color: var(--sklearn-color-background);\n",
       "  position: relative;\n",
       "}\n",
       "\n",
       "#sk-container-id-1 div.sk-parallel-item {\n",
       "  display: flex;\n",
       "  flex-direction: column;\n",
       "}\n",
       "\n",
       "#sk-container-id-1 div.sk-parallel-item:first-child::after {\n",
       "  align-self: flex-end;\n",
       "  width: 50%;\n",
       "}\n",
       "\n",
       "#sk-container-id-1 div.sk-parallel-item:last-child::after {\n",
       "  align-self: flex-start;\n",
       "  width: 50%;\n",
       "}\n",
       "\n",
       "#sk-container-id-1 div.sk-parallel-item:only-child::after {\n",
       "  width: 0;\n",
       "}\n",
       "\n",
       "/* Serial-specific style estimator block */\n",
       "\n",
       "#sk-container-id-1 div.sk-serial {\n",
       "  display: flex;\n",
       "  flex-direction: column;\n",
       "  align-items: center;\n",
       "  background-color: var(--sklearn-color-background);\n",
       "  padding-right: 1em;\n",
       "  padding-left: 1em;\n",
       "}\n",
       "\n",
       "\n",
       "/* Toggleable style: style used for estimator/Pipeline/ColumnTransformer box that is\n",
       "clickable and can be expanded/collapsed.\n",
       "- Pipeline and ColumnTransformer use this feature and define the default style\n",
       "- Estimators will overwrite some part of the style using the `sk-estimator` class\n",
       "*/\n",
       "\n",
       "/* Pipeline and ColumnTransformer style (default) */\n",
       "\n",
       "#sk-container-id-1 div.sk-toggleable {\n",
       "  /* Default theme specific background. It is overwritten whether we have a\n",
       "  specific estimator or a Pipeline/ColumnTransformer */\n",
       "  background-color: var(--sklearn-color-background);\n",
       "}\n",
       "\n",
       "/* Toggleable label */\n",
       "#sk-container-id-1 label.sk-toggleable__label {\n",
       "  cursor: pointer;\n",
       "  display: block;\n",
       "  width: 100%;\n",
       "  margin-bottom: 0;\n",
       "  padding: 0.5em;\n",
       "  box-sizing: border-box;\n",
       "  text-align: center;\n",
       "}\n",
       "\n",
       "#sk-container-id-1 label.sk-toggleable__label-arrow:before {\n",
       "  /* Arrow on the left of the label */\n",
       "  content: \"▸\";\n",
       "  float: left;\n",
       "  margin-right: 0.25em;\n",
       "  color: var(--sklearn-color-icon);\n",
       "}\n",
       "\n",
       "#sk-container-id-1 label.sk-toggleable__label-arrow:hover:before {\n",
       "  color: var(--sklearn-color-text);\n",
       "}\n",
       "\n",
       "/* Toggleable content - dropdown */\n",
       "\n",
       "#sk-container-id-1 div.sk-toggleable__content {\n",
       "  max-height: 0;\n",
       "  max-width: 0;\n",
       "  overflow: hidden;\n",
       "  text-align: left;\n",
       "  /* unfitted */\n",
       "  background-color: var(--sklearn-color-unfitted-level-0);\n",
       "}\n",
       "\n",
       "#sk-container-id-1 div.sk-toggleable__content.fitted {\n",
       "  /* fitted */\n",
       "  background-color: var(--sklearn-color-fitted-level-0);\n",
       "}\n",
       "\n",
       "#sk-container-id-1 div.sk-toggleable__content pre {\n",
       "  margin: 0.2em;\n",
       "  border-radius: 0.25em;\n",
       "  color: var(--sklearn-color-text);\n",
       "  /* unfitted */\n",
       "  background-color: var(--sklearn-color-unfitted-level-0);\n",
       "}\n",
       "\n",
       "#sk-container-id-1 div.sk-toggleable__content.fitted pre {\n",
       "  /* unfitted */\n",
       "  background-color: var(--sklearn-color-fitted-level-0);\n",
       "}\n",
       "\n",
       "#sk-container-id-1 input.sk-toggleable__control:checked~div.sk-toggleable__content {\n",
       "  /* Expand drop-down */\n",
       "  max-height: 200px;\n",
       "  max-width: 100%;\n",
       "  overflow: auto;\n",
       "}\n",
       "\n",
       "#sk-container-id-1 input.sk-toggleable__control:checked~label.sk-toggleable__label-arrow:before {\n",
       "  content: \"▾\";\n",
       "}\n",
       "\n",
       "/* Pipeline/ColumnTransformer-specific style */\n",
       "\n",
       "#sk-container-id-1 div.sk-label input.sk-toggleable__control:checked~label.sk-toggleable__label {\n",
       "  color: var(--sklearn-color-text);\n",
       "  background-color: var(--sklearn-color-unfitted-level-2);\n",
       "}\n",
       "\n",
       "#sk-container-id-1 div.sk-label.fitted input.sk-toggleable__control:checked~label.sk-toggleable__label {\n",
       "  background-color: var(--sklearn-color-fitted-level-2);\n",
       "}\n",
       "\n",
       "/* Estimator-specific style */\n",
       "\n",
       "/* Colorize estimator box */\n",
       "#sk-container-id-1 div.sk-estimator input.sk-toggleable__control:checked~label.sk-toggleable__label {\n",
       "  /* unfitted */\n",
       "  background-color: var(--sklearn-color-unfitted-level-2);\n",
       "}\n",
       "\n",
       "#sk-container-id-1 div.sk-estimator.fitted input.sk-toggleable__control:checked~label.sk-toggleable__label {\n",
       "  /* fitted */\n",
       "  background-color: var(--sklearn-color-fitted-level-2);\n",
       "}\n",
       "\n",
       "#sk-container-id-1 div.sk-label label.sk-toggleable__label,\n",
       "#sk-container-id-1 div.sk-label label {\n",
       "  /* The background is the default theme color */\n",
       "  color: var(--sklearn-color-text-on-default-background);\n",
       "}\n",
       "\n",
       "/* On hover, darken the color of the background */\n",
       "#sk-container-id-1 div.sk-label:hover label.sk-toggleable__label {\n",
       "  color: var(--sklearn-color-text);\n",
       "  background-color: var(--sklearn-color-unfitted-level-2);\n",
       "}\n",
       "\n",
       "/* Label box, darken color on hover, fitted */\n",
       "#sk-container-id-1 div.sk-label.fitted:hover label.sk-toggleable__label.fitted {\n",
       "  color: var(--sklearn-color-text);\n",
       "  background-color: var(--sklearn-color-fitted-level-2);\n",
       "}\n",
       "\n",
       "/* Estimator label */\n",
       "\n",
       "#sk-container-id-1 div.sk-label label {\n",
       "  font-family: monospace;\n",
       "  font-weight: bold;\n",
       "  display: inline-block;\n",
       "  line-height: 1.2em;\n",
       "}\n",
       "\n",
       "#sk-container-id-1 div.sk-label-container {\n",
       "  text-align: center;\n",
       "}\n",
       "\n",
       "/* Estimator-specific */\n",
       "#sk-container-id-1 div.sk-estimator {\n",
       "  font-family: monospace;\n",
       "  border: 1px dotted var(--sklearn-color-border-box);\n",
       "  border-radius: 0.25em;\n",
       "  box-sizing: border-box;\n",
       "  margin-bottom: 0.5em;\n",
       "  /* unfitted */\n",
       "  background-color: var(--sklearn-color-unfitted-level-0);\n",
       "}\n",
       "\n",
       "#sk-container-id-1 div.sk-estimator.fitted {\n",
       "  /* fitted */\n",
       "  background-color: var(--sklearn-color-fitted-level-0);\n",
       "}\n",
       "\n",
       "/* on hover */\n",
       "#sk-container-id-1 div.sk-estimator:hover {\n",
       "  /* unfitted */\n",
       "  background-color: var(--sklearn-color-unfitted-level-2);\n",
       "}\n",
       "\n",
       "#sk-container-id-1 div.sk-estimator.fitted:hover {\n",
       "  /* fitted */\n",
       "  background-color: var(--sklearn-color-fitted-level-2);\n",
       "}\n",
       "\n",
       "/* Specification for estimator info (e.g. \"i\" and \"?\") */\n",
       "\n",
       "/* Common style for \"i\" and \"?\" */\n",
       "\n",
       ".sk-estimator-doc-link,\n",
       "a:link.sk-estimator-doc-link,\n",
       "a:visited.sk-estimator-doc-link {\n",
       "  float: right;\n",
       "  font-size: smaller;\n",
       "  line-height: 1em;\n",
       "  font-family: monospace;\n",
       "  background-color: var(--sklearn-color-background);\n",
       "  border-radius: 1em;\n",
       "  height: 1em;\n",
       "  width: 1em;\n",
       "  text-decoration: none !important;\n",
       "  margin-left: 1ex;\n",
       "  /* unfitted */\n",
       "  border: var(--sklearn-color-unfitted-level-1) 1pt solid;\n",
       "  color: var(--sklearn-color-unfitted-level-1);\n",
       "}\n",
       "\n",
       ".sk-estimator-doc-link.fitted,\n",
       "a:link.sk-estimator-doc-link.fitted,\n",
       "a:visited.sk-estimator-doc-link.fitted {\n",
       "  /* fitted */\n",
       "  border: var(--sklearn-color-fitted-level-1) 1pt solid;\n",
       "  color: var(--sklearn-color-fitted-level-1);\n",
       "}\n",
       "\n",
       "/* On hover */\n",
       "div.sk-estimator:hover .sk-estimator-doc-link:hover,\n",
       ".sk-estimator-doc-link:hover,\n",
       "div.sk-label-container:hover .sk-estimator-doc-link:hover,\n",
       ".sk-estimator-doc-link:hover {\n",
       "  /* unfitted */\n",
       "  background-color: var(--sklearn-color-unfitted-level-3);\n",
       "  color: var(--sklearn-color-background);\n",
       "  text-decoration: none;\n",
       "}\n",
       "\n",
       "div.sk-estimator.fitted:hover .sk-estimator-doc-link.fitted:hover,\n",
       ".sk-estimator-doc-link.fitted:hover,\n",
       "div.sk-label-container:hover .sk-estimator-doc-link.fitted:hover,\n",
       ".sk-estimator-doc-link.fitted:hover {\n",
       "  /* fitted */\n",
       "  background-color: var(--sklearn-color-fitted-level-3);\n",
       "  color: var(--sklearn-color-background);\n",
       "  text-decoration: none;\n",
       "}\n",
       "\n",
       "/* Span, style for the box shown on hovering the info icon */\n",
       ".sk-estimator-doc-link span {\n",
       "  display: none;\n",
       "  z-index: 9999;\n",
       "  position: relative;\n",
       "  font-weight: normal;\n",
       "  right: .2ex;\n",
       "  padding: .5ex;\n",
       "  margin: .5ex;\n",
       "  width: min-content;\n",
       "  min-width: 20ex;\n",
       "  max-width: 50ex;\n",
       "  color: var(--sklearn-color-text);\n",
       "  box-shadow: 2pt 2pt 4pt #999;\n",
       "  /* unfitted */\n",
       "  background: var(--sklearn-color-unfitted-level-0);\n",
       "  border: .5pt solid var(--sklearn-color-unfitted-level-3);\n",
       "}\n",
       "\n",
       ".sk-estimator-doc-link.fitted span {\n",
       "  /* fitted */\n",
       "  background: var(--sklearn-color-fitted-level-0);\n",
       "  border: var(--sklearn-color-fitted-level-3);\n",
       "}\n",
       "\n",
       ".sk-estimator-doc-link:hover span {\n",
       "  display: block;\n",
       "}\n",
       "\n",
       "/* \"?\"-specific style due to the `<a>` HTML tag */\n",
       "\n",
       "#sk-container-id-1 a.estimator_doc_link {\n",
       "  float: right;\n",
       "  font-size: 1rem;\n",
       "  line-height: 1em;\n",
       "  font-family: monospace;\n",
       "  background-color: var(--sklearn-color-background);\n",
       "  border-radius: 1rem;\n",
       "  height: 1rem;\n",
       "  width: 1rem;\n",
       "  text-decoration: none;\n",
       "  /* unfitted */\n",
       "  color: var(--sklearn-color-unfitted-level-1);\n",
       "  border: var(--sklearn-color-unfitted-level-1) 1pt solid;\n",
       "}\n",
       "\n",
       "#sk-container-id-1 a.estimator_doc_link.fitted {\n",
       "  /* fitted */\n",
       "  border: var(--sklearn-color-fitted-level-1) 1pt solid;\n",
       "  color: var(--sklearn-color-fitted-level-1);\n",
       "}\n",
       "\n",
       "/* On hover */\n",
       "#sk-container-id-1 a.estimator_doc_link:hover {\n",
       "  /* unfitted */\n",
       "  background-color: var(--sklearn-color-unfitted-level-3);\n",
       "  color: var(--sklearn-color-background);\n",
       "  text-decoration: none;\n",
       "}\n",
       "\n",
       "#sk-container-id-1 a.estimator_doc_link.fitted:hover {\n",
       "  /* fitted */\n",
       "  background-color: var(--sklearn-color-fitted-level-3);\n",
       "}\n",
       "</style><div id=\"sk-container-id-1\" class=\"sk-top-container\"><div class=\"sk-text-repr-fallback\"><pre>Pipeline(steps=[(&#x27;rescaler&#x27;, MinMaxScaler()),\n",
       "                (&#x27;poly_transformer&#x27;,\n",
       "                 PolynomialFeatures(degree=3, include_bias=False)),\n",
       "                (&#x27;linear_regr&#x27;, Ridge(alpha=0.01))])</pre><b>In a Jupyter environment, please rerun this cell to show the HTML representation or trust the notebook. <br />On GitHub, the HTML representation is unable to render, please try loading this page with nbviewer.org.</b></div><div class=\"sk-container\" hidden><div class=\"sk-item sk-dashed-wrapped\"><div class=\"sk-label-container\"><div class=\"sk-label fitted sk-toggleable\"><input class=\"sk-toggleable__control sk-hidden--visually\" id=\"sk-estimator-id-1\" type=\"checkbox\" ><label for=\"sk-estimator-id-1\" class=\"sk-toggleable__label fitted sk-toggleable__label-arrow fitted\">&nbsp;&nbsp;Pipeline<a class=\"sk-estimator-doc-link fitted\" rel=\"noreferrer\" target=\"_blank\" href=\"https://scikit-learn.org/1.5/modules/generated/sklearn.pipeline.Pipeline.html\">?<span>Documentation for Pipeline</span></a><span class=\"sk-estimator-doc-link fitted\">i<span>Fitted</span></span></label><div class=\"sk-toggleable__content fitted\"><pre>Pipeline(steps=[(&#x27;rescaler&#x27;, MinMaxScaler()),\n",
       "                (&#x27;poly_transformer&#x27;,\n",
       "                 PolynomialFeatures(degree=3, include_bias=False)),\n",
       "                (&#x27;linear_regr&#x27;, Ridge(alpha=0.01))])</pre></div> </div></div><div class=\"sk-serial\"><div class=\"sk-item\"><div class=\"sk-estimator fitted sk-toggleable\"><input class=\"sk-toggleable__control sk-hidden--visually\" id=\"sk-estimator-id-2\" type=\"checkbox\" ><label for=\"sk-estimator-id-2\" class=\"sk-toggleable__label fitted sk-toggleable__label-arrow fitted\">&nbsp;MinMaxScaler<a class=\"sk-estimator-doc-link fitted\" rel=\"noreferrer\" target=\"_blank\" href=\"https://scikit-learn.org/1.5/modules/generated/sklearn.preprocessing.MinMaxScaler.html\">?<span>Documentation for MinMaxScaler</span></a></label><div class=\"sk-toggleable__content fitted\"><pre>MinMaxScaler()</pre></div> </div></div><div class=\"sk-item\"><div class=\"sk-estimator fitted sk-toggleable\"><input class=\"sk-toggleable__control sk-hidden--visually\" id=\"sk-estimator-id-3\" type=\"checkbox\" ><label for=\"sk-estimator-id-3\" class=\"sk-toggleable__label fitted sk-toggleable__label-arrow fitted\">&nbsp;PolynomialFeatures<a class=\"sk-estimator-doc-link fitted\" rel=\"noreferrer\" target=\"_blank\" href=\"https://scikit-learn.org/1.5/modules/generated/sklearn.preprocessing.PolynomialFeatures.html\">?<span>Documentation for PolynomialFeatures</span></a></label><div class=\"sk-toggleable__content fitted\"><pre>PolynomialFeatures(degree=3, include_bias=False)</pre></div> </div></div><div class=\"sk-item\"><div class=\"sk-estimator fitted sk-toggleable\"><input class=\"sk-toggleable__control sk-hidden--visually\" id=\"sk-estimator-id-4\" type=\"checkbox\" ><label for=\"sk-estimator-id-4\" class=\"sk-toggleable__label fitted sk-toggleable__label-arrow fitted\">&nbsp;Ridge<a class=\"sk-estimator-doc-link fitted\" rel=\"noreferrer\" target=\"_blank\" href=\"https://scikit-learn.org/1.5/modules/generated/sklearn.linear_model.Ridge.html\">?<span>Documentation for Ridge</span></a></label><div class=\"sk-toggleable__content fitted\"><pre>Ridge(alpha=0.01)</pre></div> </div></div></div></div></div></div>"
      ],
      "text/plain": [
       "Pipeline(steps=[('rescaler', MinMaxScaler()),\n",
       "                ('poly_transformer',\n",
       "                 PolynomialFeatures(degree=3, include_bias=False)),\n",
       "                ('linear_regr', Ridge(alpha=0.01))])"
      ]
     },
     "execution_count": 159,
     "metadata": {},
     "output_type": "execute_result"
    }
   ],
   "source": [
    "best_fit = make_poly_ridge_regr_pipeline(degree = 3, alpha = 0.01)\n",
    "best_fit.fit(x_trva_LF, y_trva_L)"
   ]
  },
  {
   "cell_type": "code",
   "execution_count": 171,
   "metadata": {},
   "outputs": [
    {
     "name": "stdout",
     "output_type": "stream",
     "text": [
      "Selected Parameters:\n",
      "Degree 3, alpha = 0.01\n",
      "10-fold CV estimate of heldout error:\n",
      "3.7912391\n",
      "Error on the test-set:\n",
      "3.790084\n",
      "Error on train set:\n",
      "3.707136\n"
     ]
    }
   ],
   "source": [
    "print(\"Selected Parameters:\")\n",
    "print(\"Degree 3, alpha = 0.01\")\n",
    "print(\"10-fold CV estimate of heldout error:\")\n",
    "print(\"3.7912391\")\n",
    "print(\"Error on the test-set:\")\n",
    "print(\n",
    "    calc_root_mean_squared_error(y_te_P, sanitize(best_fit.predict(x_te_PF)))\n",
    ")\n",
    "print(\"Error on train set:\")\n",
    "print(calc_root_mean_squared_error(y_trva_L, sanitize(best_fit.predict(x_trva_LF))))"
   ]
  },
  {
   "cell_type": "markdown",
   "metadata": {},
   "source": [
    "### Table 3: Comparing Pipelines on the test set\n",
    "\n",
    "In one neat table, please compare the *test set* root-mean-squared-error (RMSE) performance for the following regressors:\n",
    "\n",
    "* Baseline: A predictor that always guesses the *mean* $y$ value of the training set, regardless of the new test input\n",
    "* The best Poly+Linear pipeline, picking degree to minimize val set error (from 1B)\n",
    "* The best Poly+Ridge pipeline, fixing degree=4 and picking alpha to minimize val set error (from 2B)\n",
    "* The best Poly+Ridge pipeline, picking degree and alpha to minimize 10-fold cross validation error (from 3B)"
   ]
  },
  {
   "cell_type": "code",
   "execution_count": 167,
   "metadata": {},
   "outputs": [
    {
     "name": "stdout",
     "output_type": "stream",
     "text": [
      "Base mean prediction. Train Err <<8.015037>> Test Err<<7.131415>>\n",
      "\n"
     ]
    }
   ],
   "source": [
    "print(\n",
    "    \"Base mean prediction. Train Err <<{}>> Test Err<<{}>>\\n\".format(\n",
    "          calc_root_mean_squared_error(y_trva_L, [np.mean(y_trva_L)]*len(y_trva_L)),\n",
    "          calc_root_mean_squared_error(y_te_P, [np.mean(y_trva_L)]*len(y_te_P))\n",
    "      )\n",
    ")"
   ]
  },
  {
   "cell_type": "markdown",
   "metadata": {},
   "source": [
    "TODO make a table in your report using the saved values from 1B, 2B and 3B above. You can fill in the below Markdown table. \n",
    "\n",
    "| Name                          | Hyperparameter Value(s)     | Test RMSE | Train RMSE | Heldout |\n",
    "|-------------------------------|-----------------------------|-----------|------------|---------|\n",
    "|      Baseline mean prediction | None                        | 7.13      | 8.02       | N/A     |\n",
    "|      Poly+Linear pipeine (1B) | Degree = 2                  | 3.99      | 3.73       | 3.97    |\n",
    "|  Poly+Ridge Alpha Search (2B) | Degree = 4, Alpha = 0.01    | 3.88      | 3.62       | 3.93    |\n",
    "| Poly + Ridge Grid Search (3B) | Degree = 3, Alpha = 0.01    | 3.79      | 3.70       | 3.79    |\n"
   ]
  },
  {
   "cell_type": "markdown",
   "metadata": {},
   "source": [
    "Table 3: \n",
    "*Provide a 2-4 sentence caption answering the question: \n",
    "What pipeline in Table 3 performed best in terms of heldout error, and why do you thik that pipeline performed the best? \n",
    "What pipeline in Table 3 performed worst in terms of heldout error, and why do you thik that pipeline performed the worst?*"
   ]
  },
  {
   "cell_type": "markdown",
   "metadata": {},
   "source": [
    "### Reflection\n",
    "The Poly + Ridge Grid Search (3B) performed the best in the heldout error, and also in the test RMSE. I believe that it managed to achieve a higher granularity of analaysis on the impact of the features due to its higher degree, while also maintaining a balance of the weights using a proper alpha value. It is interesting that the best alpha value for the 3B model was the same as the best for the 2B model. To me this suggests that 2B was a good stepping stone.  \n",
    "The 1B model performed the worst on the heldout. It probably wasn't able to capture much granularity due to its low degree and couldn't balance the weights appropriately because it had no regularization."
   ]
  },
  {
   "cell_type": "markdown",
   "metadata": {},
   "source": [
    "#### Further reflection\n",
    "In order to get a better view into which model I would finally recommend, I will re-train all the models on the concatenated train+validation data and evaluate them on the test data.  \n",
    "Note that while 3B was the best model above, it was also trained using more data."
   ]
  },
  {
   "cell_type": "code",
   "execution_count": 172,
   "metadata": {},
   "outputs": [
    {
     "name": "stdout",
     "output_type": "stream",
     "text": [
      "After retraining and predicting on the same data set, we get the following errors.\n",
      "\n",
      " Base mean prediction. Train Err <<8.015037>> Test Err<<7.131415>>\n",
      " Poly linear. Train Err <<3.781584>> Test Err <<3.915952>>\n",
      " Poly Ridge. Train Err <<3.665313>> Test Err <<3.781111>>\n",
      " Poly + Ridge CV. Train Err <<3.707136>> Test Err <<3.790084>>.\n"
     ]
    }
   ],
   "source": [
    "# Let's evaluate the performance over the entire data set\n",
    "\n",
    "# Re-Making Best Fits from P1 and P2\n",
    "p1_best_fit = make_poly_linear_regr_pipeline(degree = 2)\n",
    "p2_best_fit = make_poly_ridge_regr_pipeline(degree = 4, alpha = 0.01)\n",
    "# Fitting\n",
    "p1_best_fit.fit(x_trva_LF, y_trva_L)\n",
    "p2_best_fit.fit(x_trva_LF, y_trva_L)\n",
    "# Getting final errors\n",
    "p1_tr_err = calc_root_mean_squared_error(y_trva_L, sanitize(p1_best_fit.predict(x_trva_LF)))\n",
    "p1_te_err = calc_root_mean_squared_error(y_te_P, sanitize(p1_best_fit.predict(x_te_PF)))\n",
    "\n",
    "p2_tr_err = calc_root_mean_squared_error(y_trva_L, sanitize(p2_best_fit.predict(x_trva_LF)))\n",
    "p2_te_err = calc_root_mean_squared_error(y_te_P, sanitize(p2_best_fit.predict(x_te_PF)))\n",
    "\n",
    "p3_tr_err = calc_root_mean_squared_error(y_trva_L, sanitize(best_fit.predict(x_trva_LF)))\n",
    "p3_te_err = calc_root_mean_squared_error(y_te_P, sanitize(best_fit.predict(x_te_PF)))\n",
    "\n",
    "\n",
    "print(\"After retraining and predicting on the same data set, we get the following errors.\\n\\n\",\n",
    "      \"Base mean prediction. Train Err <<{}>> Test Err<<{}>>\\n\".format(\n",
    "          calc_root_mean_squared_error(y_trva_L, [np.mean(y_trva_L)]*len(y_trva_L)),\n",
    "          calc_root_mean_squared_error(y_te_P, [np.mean(y_trva_L)]*len(y_te_P))\n",
    "      ),\n",
    "      \"Poly linear. Train Err <<{}>> Test Err <<{}>>\\n\".format(\n",
    "          p1_tr_err, p1_te_err\n",
    "      ),\n",
    "      \"Poly Ridge. Train Err <<{}>> Test Err <<{}>>\\n\".format(\n",
    "          p2_tr_err, p2_te_err\n",
    "      ),\n",
    "      \"Poly + Ridge CV. Train Err <<{}>> Test Err <<{}>>.\".format(\n",
    "          p3_tr_err, p3_te_err\n",
    "      )\n",
    "      \n",
    ")"
   ]
  },
  {
   "cell_type": "markdown",
   "metadata": {},
   "source": [
    "Your caption here"
   ]
  },
  {
   "cell_type": "markdown",
   "metadata": {},
   "source": [
    "TODO make a table in your report using the saved values from 1B, 2B and 3B above. You can fill in the below Markdown table. \n",
    "\n",
    "| Name                          | Hyperparameter Value(s)     | TrVa RMSE | Test RMSE |\n",
    "|-------------------------------|-----------------------------|-----------|------------|\n",
    "|      Baseline mean prediction | None                        | 8.02      | 7.13       |\n",
    "|      Poly+Linear pipeine (1B) | Degree = 2                  | 3.78      | 3.91       |\n",
    "|  Poly+Ridge Alpha Search (2B) | Degree = 4, Alpha = 0.01    | 3.66      | 3.78       |\n",
    "| Poly + Ridge Grid Search (3B) | Degree = 3, Alpha = 0.01    | 3.70      | 3.79       |\n"
   ]
  },
  {
   "cell_type": "markdown",
   "metadata": {},
   "source": [
    "#### Last Reflection\n",
    "After training and evaluating all the models on the same data set, we observe that 2B works best. It achieved the lowest error scores on the TrVa set used for training, and on the test set as well, beating 3B on the test set by 0.01."
   ]
  },
  {
   "cell_type": "markdown",
   "metadata": {},
   "source": [
    "## Reflection\n",
    "Please fill in the following information about your HW1 solution.\n",
    "\n",
    "How many hours did HW1 take you? _______\n",
    "\n",
    "Did you use any resources outside of class materials and official documentation, such as StackOverflow threads or ChatGPT? If so, please list such resources below:"
   ]
  },
  {
   "cell_type": "markdown",
   "metadata": {},
   "source": [
    "It took me one hour to do the .py parts of the homework, and about 2-3 hrs to complete the jupyter notebook. Totaling somewhere between 3-4.  \n",
    "I used the numpy docs, and asked Windows Co-Pilot questions about the syntax of certain numpy functions (sometimes faster than looking up the docs)."
   ]
  },
  {
   "cell_type": "code",
   "execution_count": null,
   "metadata": {},
   "outputs": [],
   "source": []
  }
 ],
 "metadata": {
  "kernelspec": {
   "display_name": "Python 3 (ipykernel)",
   "language": "python",
   "name": "python3"
  },
  "language_info": {
   "codemirror_mode": {
    "name": "ipython",
    "version": 3
   },
   "file_extension": ".py",
   "mimetype": "text/x-python",
   "name": "python",
   "nbconvert_exporter": "python",
   "pygments_lexer": "ipython3",
   "version": "3.11.9"
   "version": "3.12.5"
  }
 },
 "nbformat": 4,
 "nbformat_minor": 4
}
